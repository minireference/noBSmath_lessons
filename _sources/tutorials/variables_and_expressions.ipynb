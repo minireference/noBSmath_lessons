{
 "cells": [
  {
   "cell_type": "markdown",
   "id": "c939d7cf",
   "metadata": {},
   "source": [
    "# Variables and expressions\n",
    "\n",
    "This notebook contains some exercises to get you familiar with basic Python programming notions.\n",
    "\n",
    "\n",
    "## Programming 101\n",
    "\n",
    "Programming consists of writing down instructions for a computer. The instuctions are also called \"commands\", \"code\", \"source code\", etc. Since this tutorial is about Python, all the instructions in the boxes you'll see below are written in the Python programming language. \n",
    "\n",
    "You can \"run\" the code in a given box by pressing the play button on the left side, or by pressing _Shift_ and _Enter_ keys at the same time. When you run a code cell, you're telling the computer to \"execute\" the Python instructions in that cell, which means to do the actions described in the code, and print the final value computed in that cell.\n",
    "\n",
    "Running a code cell is similar to using the EQUALS button on the calculator: whatever math expression you entered, the calculator will compute its value and display it as the output. The process is identical when you execute some Python code, but you're allowed to input multiple lines of commands at once. The computer will execute the lines of code one by one in the order it sees them.\n",
    "\n",
    "The result of final calculations in the cell gets automatically printed in the output cell right below the input cell. This feature allows you to skip the print statments, since the last output gets printed automatically for you. This makes it easy and fun to explore and \"poke around\" each example given in this notebook. Click the `[+ Code]` button below any cell to add a blank cell where you can try inputting some expressions and running them by pressing _Shift_ and _Enter_.\n",
    "\n",
    "\n",
    "\n",
    "### Errors\n",
    "Sometimes the executed commands will cause an error, and in these cases Python will give an error message describing the problem encountered. Get psychologically ready for those, because they can be very discouraging. REJECTED! The computer doesn't like what you entered. SyntaxError, ValueError, etc. The error messages look scary, but really they are there to help you—if you read what the error message tells you, you will know what needs to be fixed in your input. The error message literally describes the problem!"
   ]
  },
  {
   "cell_type": "code",
   "execution_count": 1,
   "id": "19fa0965",
   "metadata": {},
   "outputs": [
    {
     "name": "stdout",
     "output_type": "stream",
     "text": [
      "3\n"
     ]
    }
   ],
   "source": [
    "x = 3\n",
    "print(x)"
   ]
  },
  {
   "cell_type": "markdown",
   "id": "945bd984",
   "metadata": {},
   "source": [
    "No problem with this cell (it just sets the variable `x` to the value `3`, then prints the value of x to the screen)."
   ]
  },
  {
   "cell_type": "code",
   "execution_count": 2,
   "id": "e2a0d8ef",
   "metadata": {},
   "outputs": [
    {
     "ename": "ZeroDivisionError",
     "evalue": "division by zero",
     "output_type": "error",
     "traceback": [
      "\u001b[0;31m---------------------------------------------------------------------------\u001b[0m",
      "\u001b[0;31mZeroDivisionError\u001b[0m                         Traceback (most recent call last)",
      "\u001b[0;32m/tmp/ipykernel_1638/3150626867.py\u001b[0m in \u001b[0;36m<module>\u001b[0;34m\u001b[0m\n\u001b[0;32m----> 1\u001b[0;31m \u001b[0;36m3\u001b[0m\u001b[0;34m/\u001b[0m\u001b[0;36m0\u001b[0m\u001b[0;34m\u001b[0m\u001b[0;34m\u001b[0m\u001b[0m\n\u001b[0m",
      "\u001b[0;31mZeroDivisionError\u001b[0m: division by zero"
     ]
    }
   ],
   "source": [
    "3/0"
   ]
  },
  {
   "cell_type": "markdown",
   "id": "134a9f19",
   "metadata": {},
   "source": [
    "Here we get an error since we're trying to compute an expression that contains a divide by zero error: Python tell us a `ZeroDivisionError: division by zero` has occurred, i.e., check your math expressions!\n",
    "\n",
    "\n",
    "## Variables\n",
    "\n",
    "Similar to variables in math, a variable in Python is a convenient name we use to refer to any value: a onstant `c`, the input to a funciton `x`, the output of a function `y`, or any other intermediate value.\n",
    "\n",
    "\n",
    "### Variables types\n",
    "\n",
    "Similar to the notion of number sets in math $\\mathbb{Z}$, $\\mathbb{R}$ etc., computers variables also come in different types:\n",
    "\n",
    "- **int** - integers ex: `34`,`65`, `78`, `-4`, etc. (rougly equivalent to $\\mathbb{Z}$)\n",
    "- **float** - ex: `4.6`,`78.5`, `1e-3` (full name is \"floating point number\"; similar to $\\mathbb{R}$ but only with finite precision)\n",
    "- **bool** a Boolean truth value with only two choices: `True` or `False`.\n",
    "- **string** - text ex: `'Hello'`, `'Hello everyone'`\n",
    "- **list** a sequence of values ​​- ex: `[69, 81, 92, 77]`. The beginning and the end of the list are denoted by the brackets `[` and `]`, and its elements are separated by commas.\n",
    "- **dictionary** a collection of key-value pairs. Each key is associated with a value - ex: `{'first_name': 'Julie', 'last_name': 'Tremblay', 'score': 98}`. Dictionaries are denoted by curly braces `{` and `}` inside which we place `'key': value`, pairs separated by commas.\n",
    "- **tuples**, **sets**, **functions**, etc. = there are seveal other interesting and useful Python building blocks, which we'll talk about in the next episode.\n",
    "\n",
    "To assign a value to a variable, you use the symbol `=` as follows, from left to right:\n",
    "\n",
    "* we start by writing the name of the variable\n",
    "* then, we add the symbol `=`\n",
    "* finally, we write the value of the variable\n",
    "\n",
    "For example, here is how we define six variables: an integer, a decimal number, a Boolean value, a string, a list, and a dictionary:"
   ]
  },
  {
   "cell_type": "code",
   "execution_count": null,
   "id": "4b0adf79",
   "metadata": {},
   "outputs": [],
   "source": [
    "score = 98\n",
    "average = 77.5\n",
    "above_the_average = True\n",
    "message = 'Bonjour tout le monde'\n",
    "scores = [61, 85, 92, 72]\n",
    "profile = {'first_name':'Julie', 'last_name':'Tremblay', 'score':98}"
   ]
  },
  {
   "cell_type": "code",
   "execution_count": null,
   "id": "5fa2e5d8",
   "metadata": {},
   "outputs": [],
   "source": [
    "len(scores)"
   ]
  },
  {
   "cell_type": "code",
   "execution_count": null,
   "id": "8119ac48",
   "metadata": {},
   "outputs": [],
   "source": [
    "# title-case = capitaliz the first letter of every word\n",
    "message.title()"
   ]
  },
  {
   "cell_type": "code",
   "execution_count": null,
   "id": "01ea66e5",
   "metadata": {},
   "outputs": [],
   "source": [
    "len(profile)"
   ]
  },
  {
   "cell_type": "code",
   "execution_count": null,
   "id": "8525333b",
   "metadata": {},
   "outputs": [],
   "source": [
    "other_scores = [77.5, 7.75e1]\n",
    "len(other_scores)"
   ]
  },
  {
   "cell_type": "code",
   "execution_count": null,
   "id": "842b7acf",
   "metadata": {},
   "outputs": [],
   "source": [
    "len(message)"
   ]
  },
  {
   "cell_type": "code",
   "execution_count": null,
   "id": "984487b4",
   "metadata": {},
   "outputs": [],
   "source": [
    "message.split()"
   ]
  },
  {
   "cell_type": "markdown",
   "id": "85911005",
   "metadata": {},
   "source": [
    "You can explore the different methods available on any python object `int`, `float`, `str`, etc.  by starting to type the dot `.` after the name, e.g., `message.` then pressing the TAB button to get an \"autocomplete\" dropdown of all the methods available on the variable `message`. Most of these methods are common to all strings in Python.\n",
    "\n",
    "\n",
    "## Expressions\n",
    "\n",
    "Similar to expresisons in algebra, a Python expression is can be any combination of variables and operations:"
   ]
  },
  {
   "cell_type": "code",
   "execution_count": null,
   "id": "8bbffafa",
   "metadata": {},
   "outputs": [],
   "source": [
    "# Expression involving numerical values\n",
    "sec_in_min = 60 \n",
    "sec_in_day = sec_in_min * 60 * 24\n",
    "sec_in_week = sec_in_day * 7\n",
    "print('The number of seconds in a week is', sec_in_week)\n",
    "\n",
    "\n",
    "# Expression involving strings\n",
    "name = 'Julie'\n",
    "message = 'Hello ' + name    # for strings, + means concatenate\n",
    "print(message)\n",
    "\n",
    "# Expression involving a list\n",
    "scores = [61, 85, 92, 72]\n",
    "average = sum(scores)/len(scores)\n",
    "#        `sum` computes the sum of values in the list\n",
    "#                and `len` gives you the length of the list\n",
    "print('The average score is', average)\n",
    "\n",
    "\n",
    "# Expression involving using the values of a dictionary\n",
    "profile = {\n",
    "    'first_name':'Julie',\n",
    "    'last_name':'Tremblay',\n",
    "    'score':98\n",
    "}\n",
    "message2 = 'Hello ' + profile['first_name'] + ' ' + profile['last_name'] + \\\n",
    "           ', your score is ' + str(profile['score']) + '%.'\n",
    "print(message2)"
   ]
  },
  {
   "cell_type": "code",
   "execution_count": null,
   "id": "b1955ba9",
   "metadata": {},
   "outputs": [],
   "source": [
    "profile['last_name'] "
   ]
  },
  {
   "cell_type": "markdown",
   "id": "23616b3d",
   "metadata": {},
   "source": [
    "Note in all the above examples, the code had the form:\n",
    "\n",
    "```Python\n",
    "var_name = <some expression>\n",
    "```\n",
    "which is the important new pattern you have to get used to in programming. Even though this looks like a math equation, the meaning you have to associate with it is much simpler—we are setting variable `var_name` to the value of the expression `<some expression>`.\n",
    "\n",
    "Don't worry about the lists and dictionary examples—I know they are complicated and we haven't explained all the syntax. We'll get to that in just a little bit. First let's practice computing some Python expresions."
   ]
  },
  {
   "cell_type": "code",
   "execution_count": null,
   "id": "72c54cfb",
   "metadata": {},
   "outputs": [],
   "source": [
    "# Numeric expressions\n",
    "\n",
    "expr1 = 1 + 2.4\n",
    "print(expr1)  # 3.4\n",
    "\n",
    "expr2 = 4 - 6\n",
    "print(expr2)  # -2\n",
    "\n",
    "expr3 = 0.5 * 3\n",
    "print(expr3)  # 1.5\n",
    "\n",
    "# expr4 = 5 / 0 \n",
    "# print(expr4)  "
   ]
  },
  {
   "cell_type": "code",
   "execution_count": null,
   "id": "7cfcb034",
   "metadata": {},
   "outputs": [],
   "source": []
  },
  {
   "cell_type": "code",
   "execution_count": null,
   "id": "27d7ea1f",
   "metadata": {},
   "outputs": [],
   "source": [
    "expr4=5/0"
   ]
  },
  {
   "cell_type": "markdown",
   "id": "af868d50",
   "metadata": {},
   "source": [
    "### Integration problem\n",
    "\n",
    "What is the pH of a solution with hydrogen ion activity, aH+ = 7×10−6  (the number of moles of hydrogen ions per litre of solution).   (see [pH definition](https://en.wikipedia.org/wiki/PH#Definition_and_measurement) on Wikipedia)\n",
    "\n",
    "\n",
    "Write a Python expression that computes the pH given variable aH\n",
    "\n",
    "   pH = some expression involving the variable aH\n",
    "\n",
    "Test: if aH=7×10−6  the value of the expression should match the answer to the first problem"
   ]
  },
  {
   "cell_type": "code",
   "execution_count": null,
   "id": "709df327",
   "metadata": {},
   "outputs": [],
   "source": [
    "import math\n",
    "aH = 1e-7\n",
    "pH_value = -1*math.log(aH,10)\n",
    "print('The pH value is', pH_value)"
   ]
  },
  {
   "cell_type": "markdown",
   "id": "531340ed",
   "metadata": {},
   "source": [
    "What is the hydrogen ion activity, aH+, in liquid with pH=7.47 (water at 0°C),  pH=7.00 (water at 25°C), and pH=6.14 (water at 100°C)? \n",
    "\n",
    "Write a Python expression that computes the aH given variable pH \n",
    "\n",
    "   aH =  some expression involving the variable pH"
   ]
  },
  {
   "cell_type": "code",
   "execution_count": null,
   "id": "ef15b607",
   "metadata": {},
   "outputs": [],
   "source": [
    "pH = 7\n",
    "aH = 10**(-(pH))\n",
    "print('When pH = 7, the molar concentration is', molar_conc_of_H)"
   ]
  },
  {
   "cell_type": "markdown",
   "id": "94385903",
   "metadata": {},
   "source": [
    "Test: if pH=7  ... \n",
    "\n",
    "\n",
    "### String expressions"
   ]
  },
  {
   "cell_type": "code",
   "execution_count": null,
   "id": "de61c382",
   "metadata": {},
   "outputs": [],
   "source": [
    "message3 = 'Hello' + ' ' + 'world'  # + means concatenate\n",
    "print(message3)\n",
    "\n",
    "message4 = 'Ai ' * 3                # * means repeat\n",
    "print(message4 + 'Caramba!') "
   ]
  },
  {
   "cell_type": "code",
   "execution_count": null,
   "id": "e7a957c3",
   "metadata": {},
   "outputs": [],
   "source": [
    "message5= 'Hello'+' ''Tijana'+ ' and Bojana'\n",
    "print(message5)"
   ]
  },
  {
   "cell_type": "code",
   "execution_count": null,
   "id": "d35b153b",
   "metadata": {},
   "outputs": [],
   "source": [
    "# Define a string of length 26 that contains all the lowercase latin letters\n",
    "letters = 'abcdefghijklmnopqrstuvwxyz'\n",
    "\n",
    "# Accessing individual characters within a string\n",
    "print('The index of the letter \"a\" in the string letters is 0')\n",
    "first_letter = letters[0]  # 'a'\n",
    "print(first_letter)\n",
    "\n",
    "print('The index of the letter \"b\" in the string letters is 1')\n",
    "second_letter = letters[1]  # 'b'\n",
    "print(second_letter)\n",
    "\n",
    "print('The index of the last letter in the string letters is -1')\n",
    "last_letter = letters[-1]  # 'z'\n",
    "print(last_letter)\n",
    "\n",
    "print('The last character in a string of length 26 corresponds to index 25')\n",
    "print(last_letter == letters[25])\n",
    "\n",
    "print('\\n\\n\\n')  # '\\n' is a special character (an escape sequence) that prints a newline\n",
    "                 # we'll use this kind of preint-nelines statements to logically\n",
    "                 # separate the out outplut lines\n",
    "\n",
    "# Slicing = getting a substring that contains a range of values\n",
    "first_four = letters[0:4]\n",
    "print('The first four letters of the alphabet are:', first_four)\n",
    "# the notation 0:4 is sugar syntax for range(0,4) which is equal to [0, 1, 2, 3]\n"
   ]
  },
  {
   "cell_type": "code",
   "execution_count": null,
   "id": "d4cfdf2e",
   "metadata": {},
   "outputs": [],
   "source": [
    "print(letters)\n",
    "letters[4:12]"
   ]
  },
  {
   "cell_type": "code",
   "execution_count": null,
   "id": "b480bedf",
   "metadata": {},
   "outputs": [],
   "source": [
    "scores[0:2]"
   ]
  },
  {
   "cell_type": "markdown",
   "id": "e6bb31fe",
   "metadata": {},
   "source": [
    "### Boolean expressions\n",
    "\n",
    "You can use `bool` variables and the logical operations `and`, `or`, `not`, etc. to build more complicated boolean expressions (disjunctions, conjunctions, negations, etc.)."
   ]
  },
  {
   "cell_type": "code",
   "execution_count": null,
   "id": "c8debcde",
   "metadata": {},
   "outputs": [],
   "source": [
    "print('not True ==', not True)\n",
    "print('not False ==', not False)\n",
    "print('True and True ==', True and True)\n",
    "print('True and False ==', True and False)\n",
    "print('True or False ==', True or False)\n",
    "print('False or False ==', False or False)"
   ]
  },
  {
   "cell_type": "markdown",
   "id": "a5e025af",
   "metadata": {},
   "source": [
    "## Types and type conversions\n",
    "\n",
    "The function `type` tells you the type of any variable, meaning what kind of number or object it is.\n",
    "Look back to the list above—the Python types are shown in **bold**."
   ]
  },
  {
   "cell_type": "code",
   "execution_count": null,
   "id": "efd63942",
   "metadata": {},
   "outputs": [],
   "source": [
    "# integrers\n",
    "score = 98\n",
    "type(score)"
   ]
  },
  {
   "cell_type": "code",
   "execution_count": null,
   "id": "d4eff9ed",
   "metadata": {},
   "outputs": [],
   "source": [
    "average = 77.5\n",
    "type(average)"
   ]
  },
  {
   "cell_type": "code",
   "execution_count": null,
   "id": "69daec14",
   "metadata": {},
   "outputs": [],
   "source": [
    "above_the_average = True\n",
    "type(above_the_average)"
   ]
  },
  {
   "cell_type": "markdown",
   "id": "a27a790f",
   "metadata": {},
   "source": [
    "You can convert between each of these types using the function which has the same name as the type of an object\n",
    "\n",
    "- `int` : transform any expression into an int\n",
    "- `float`: transform any expression into a flaot\n",
    "- `bool`: transform any expression into a `True` or `False`\n",
    "- `str`: transform an expression to it's string representaiton (i.e. this is what the function `print` does)."
   ]
  },
  {
   "cell_type": "markdown",
   "id": "d4e437bb",
   "metadata": {},
   "source": [
    "### Useful anything-to-int conversions"
   ]
  },
  {
   "cell_type": "code",
   "execution_count": null,
   "id": "004594f1",
   "metadata": {},
   "outputs": [],
   "source": [
    "\n",
    "# str --> int\n",
    "number_as_str = '65'\n",
    "print(number_as_str, 'has type', type(number_as_str))\n",
    "number = int(number_as_str)\n",
    "print(number, 'has type', type(number))\n",
    "\n",
    "#  float --> int\n",
    "precise_number_as_float = 3.2\n",
    "print(precise_number_as_float, 'has type', type(precise_number_as_float))\n",
    "rounded_number = int(precise_number_as_float)\n",
    "print(rounded_number, 'has type', type(rounded_number))\n",
    "\n",
    "#  bool --> int\n",
    "true_value = True\n",
    "false_value = False\n",
    "print('When converted to an int, True is', int(True), 'and False is', int(False))"
   ]
  },
  {
   "cell_type": "markdown",
   "id": "36dc7fa6",
   "metadata": {},
   "source": [
    "### Useful anything-to-float conversions"
   ]
  },
  {
   "cell_type": "code",
   "execution_count": null,
   "id": "660b1799",
   "metadata": {},
   "outputs": [],
   "source": [
    "# str --> float\n",
    "print(float('1.2'))  # note using decimal dot . not decimal , as in Europe\n",
    "print(float('1e6'))  # one million = 1000000 = 1x10^6. The e is shorthand for x10^\n",
    "print(float('4'))\n",
    "\n",
    "# int/int --> float autoconversion\n",
    "print('If you divide an integrer by an integer in Python using the / operator...')\n",
    "print('...you get a float number', 6/5, 'has type', type(6/5))\n",
    "\n",
    "print('There is also an divistion without autoconversion operator // which ...')\n",
    "print('...you get an integer', 6//5, 'has type', type(6//5))"
   ]
  },
  {
   "cell_type": "markdown",
   "id": "554f17d4",
   "metadata": {},
   "source": [
    "### Common anything-to-str conversions"
   ]
  },
  {
   "cell_type": "code",
   "execution_count": null,
   "id": "cdad3455",
   "metadata": {},
   "outputs": [],
   "source": [
    "# use the str function\n",
    "str1 = str(42)\n",
    "str2 = str(4.2)\n",
    "str3 = str(True)\n",
    "str4 = 'a string'\n",
    "print('string representations', str1, str2, str3, str4)\n",
    "\n",
    "# float -> str\n",
    "import math\n",
    "pi = math.pi  # constant equal to ratio of circumference to diameter of a circle\n",
    "print('str(math.pi) =', str(math.pi))  # defaults to max precision\n",
    "\n",
    "# control precision and print formatting using format. For more info, see\n",
    "# https://python-reference.readthedocs.io/en/latest/docs/functions/format.html\n",
    "print('pi to two decimals', '{:.2f}'.format(pi))\n",
    "print('pi to seven decimals', '{:.7f}'.format(pi))"
   ]
  },
  {
   "cell_type": "code",
   "execution_count": null,
   "id": "fad2d9ea",
   "metadata": {},
   "outputs": [],
   "source": []
  },
  {
   "cell_type": "code",
   "execution_count": null,
   "id": "0db4c51f",
   "metadata": {},
   "outputs": [],
   "source": []
  },
  {
   "cell_type": "markdown",
   "id": "c7b28ac1",
   "metadata": {},
   "source": [
    "### Converting expressions to boolean values\n",
    "\n",
    "Up until now we were in the land of math and text manipulation of numbers, which all make sense intuitively. \n",
    "\n",
    "Next we'll talk about the boolean values of Python expressions. This will feel a little weird at first since we're forcing some arbitray Python object (could be a number, a string, a list, a dictionary, etc) and asking the questions is the value `True` or `False` ?\n",
    "\n",
    "There is a specific convention about which values are considered \"truthy\" (i.e. get converted to `True` when converted to boolean using `bool`) and which expressions are falsy (i.e. get converted to `False` when passed through `bool`). \n",
    "\n",
    "I know this seems like boring details, but please read the next example carefully because \"truthyness\" and \"falsyness\" will play a big role in coding: every time you use an if or elif statement in Python, we are implicitly calling `bool` on an expression so it's a good idea to get to know what `bool` does to different types of variables."
   ]
  },
  {
   "cell_type": "code",
   "execution_count": null,
   "id": "57df7063",
   "metadata": {},
   "outputs": [],
   "source": [
    "# int --> bool\n",
    "print('Any non-zero integer is considered as True')\n",
    "print(bool(1), bool(-2), bool(10000))\n",
    "print('Zero is False')\n",
    "print(bool(0), bool(-0), bool(int('0')))\n",
    "\n",
    "print('\\n')\n",
    "\n",
    "# float --> bool\n",
    "print('Any non-zero float is considered as True')\n",
    "print(bool(1.0), bool(-2.0), bool(10000.0))\n",
    "print('Zero is False')\n",
    "print(bool(0.0), bool(-0.0), bool(float('0.0')))\n",
    "\n",
    "\n",
    "# str --> bool\n",
    "print('Any non-empty string is considered True')\n",
    "print(bool('as'), bool(''))\n",
    "\n",
    "print('\\n')\n",
    "\n",
    "# list --> bool\n",
    "print('Any non-empty list is considered True')\n",
    "print(bool([1]), bool([1,2]), bool(range(0,10000)))\n",
    "print('Empty list is considered False')\n",
    "print(bool([]), bool(list()), bool(list('[]')))\n",
    "\n",
    "print('\\n')\n",
    "\n",
    "# dict --> bool\n",
    "print('Any non-empty dict is considered True')\n",
    "print(bool({1:11}), bool({1:11,-2:22}))\n",
    "print('Empty dict is considered False')\n",
    "print(bool({}), bool(dict()))"
   ]
  },
  {
   "cell_type": "code",
   "execution_count": null,
   "id": "b2d3527e",
   "metadata": {},
   "outputs": [],
   "source": [
    "bool(2)"
   ]
  },
  {
   "cell_type": "markdown",
   "id": "6f4e902d",
   "metadata": {},
   "source": [
    "## Your turn to try this...\n",
    "\n",
    "Try typing in some Python code in this cell. If you've been simply reading until now, this is your chance to switch to \"active\" mode: use the rocket-button in the top right of the menu at the top, and choose the `Live Code` option to make all the cells in this notebook interactive, then try entering some Python commands in this code cell below:"
   ]
  },
  {
   "cell_type": "code",
   "execution_count": null,
   "id": "5ae7ea05",
   "metadata": {},
   "outputs": [],
   "source": []
  },
  {
   "cell_type": "markdown",
   "id": "dacf7eca",
   "metadata": {},
   "source": [
    "## Coming up\n",
    "\n",
    "In the next few sections, we'll cover other important parts of Python:\n",
    "\n",
    "- Blocks of code that contain multiple expressions (these are indicated based on the text indentation of the code instructions)\n",
    "- Functions\n",
    "- For loops\n",
    "- If, elif, else conditional statements\n",
    "- etc., see full list of **Appendix C: Python coding** planned topics [here](https://docs.google.com/document/d/1fwep23-95U-w1QMPU31nOvUnUXE2X3s_Dbk5JuLlKAY/edit#bookmark=id.zghgol749kju)\n",
    "\n",
    "\n",
    "\n",
    "## Exercises\n",
    "\n",
    "- Review Python syntax cheatsheet [https://blog.finxter.com/wp-content/uploads/2020/07/Finxter_WorldsMostDensePythonCheatSheet.pdf](https://blog.finxter.com/wp-content/uploads/2020/07/Finxter_WorldsMostDensePythonCheatSheet.pdf)\n",
    "  - add single dot next to concepts you've hear about\n",
    "  - double dot next to python concepts you understand\n",
    "  - triple dot next to concepts you've used in your code\n",
    "- Try poking-around and explore expressions involving numbers (`int` and `float`),\n",
    "  strings (`str`), and booleans (`bool`).\n",
    "- Go through all quiz questions in reading material as notebooks:\n",
    "  - 03-Variables: [https://introductorypython.github.io/tutorials/03-Variables.html](https://introductorypython.github.io/tutorials/03-Variables.html)\n",
    "  - 04-Operarators: [https://introductorypython.github.io/tutorials/04-Operators.html](https://introductorypython.github.io/tutorials/04-Operators.html)\n",
    "  - 06-Data types: [https://introductorypython.github.io/tutorials/06-DataTypes.html](https://introductorypython.github.io/tutorials/06-DataTypes.html)\n",
    "- Print out the [SymPy tutorial](https://minireference.com/static/tutorials/sympy_tutorial.pdf)\n",
    "  and read the beginning, which is an intro to Python from a math perspective.\n",
    "  Alt version [here](https://minireference.com/static/excerpts/noBSmath_v5_preview.pdf#page=77)."
   ]
  }
 ],
 "metadata": {
  "jupytext": {
   "text_representation": {
    "extension": ".md",
    "format_name": "myst",
    "format_version": 0.13,
    "jupytext_version": "1.10.3"
   }
  },
  "kernelspec": {
   "display_name": "Python 3",
   "name": "python3"
  },
  "language_info": {
   "codemirror_mode": {
    "name": "ipython",
    "version": 3
   },
   "file_extension": ".py",
   "mimetype": "text/x-python",
   "name": "python",
   "nbconvert_exporter": "python",
   "pygments_lexer": "ipython3",
   "version": "3.8.12"
  },
  "source_map": [
   11,
   35,
   38,
   41,
   43,
   72,
   81,
   85,
   91,
   95,
   100,
   104,
   106,
   116,
   148,
   150,
   161,
   177,
   181,
   183,
   198,
   203,
   213,
   217,
   223,
   231,
   236,
   268,
   273,
   275,
   282,
   289,
   299,
   305,
   310,
   313,
   322,
   326,
   345,
   349,
   361,
   365,
   384,
   388,
   390,
   402,
   439,
   441,
   447,
   449
  ]
 },
 "nbformat": 4,
 "nbformat_minor": 5
}