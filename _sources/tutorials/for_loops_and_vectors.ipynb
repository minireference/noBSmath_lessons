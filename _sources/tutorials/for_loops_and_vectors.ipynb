{
 "cells": [
  {
   "cell_type": "markdown",
   "id": "a523bc1d",
   "metadata": {},
   "source": [
    "# For loops and vectors\n",
    "\n",
    "\n",
    "## Prerequisites\n",
    "\n",
    "- Watch the [video about vectors](https://www.youtube.com/watch?v=fNk_zzaMoSs)\n",
    "  by 3Blue1Brown (optionally read [video text](https://www.3blue1brown.com/lessons/vectors)).\n",
    "- View the visualizations about [radians](https://twitter.com/FreyaHolmer/status/1173752820954214400),\n",
    "  [sin/cos/tan](https://twitter.com/FreyaHolmer/status/1173376419168247810),\n",
    "  [dot product](https://twitter.com/FreyaHolmer/status/1200807790580768768),\n",
    "  and [cross product](https://twitter.com/FreyaHolmer/status/1203059678705602562)\n",
    "- Review Collections: Lists section. This is important because we can use lists\n",
    "  to represent vectors in Python, for example the two-dimensional vector can be defined as `v = [3,2]`\n",
    "- Complete the section on for loops in 07-Loops notebook.\n",
    "  The for loop is important because it allows you to do operations for each element in the list.\n",
    "- Review the Fundamentals of math notebook from Sympy (Appendix C in print book)\n",
    "- Complete the SymPy > Vectors notebook to learn how to define and use vectors in SymPy.\n",
    "  Note we use Matrix object giving it a list as input, e.g. `v = Matrix([3,2])`\n",
    "  This is a little weird, but OK because a vector is a special type of matrix.\n",
    "- Solve all exercises in Chapter 7, as well as E6.4, E6.5\n",
    "- Solve all problems from P9.57 until P9.65 (inclusive)"
   ]
  },
  {
   "cell_type": "markdown",
   "id": "327c1375",
   "metadata": {},
   "source": [
    "## Lists and for loops\n",
    "\n",
    "Let's review what we've learned about Python lists and for loops because they will be useful for vector calculations in the next step."
   ]
  },
  {
   "cell_type": "code",
   "execution_count": 1,
   "id": "33eafdd4",
   "metadata": {},
   "outputs": [
    {
     "data": {
      "text/plain": [
       "[61.0, 85.0, 92.0, 72.0]"
      ]
     },
     "execution_count": 1,
     "metadata": {},
     "output_type": "execute_result"
    }
   ],
   "source": [
    "scores = [61.0, 85.0, 92.0, 72.0]  # define a list of floats\n",
    "scores"
   ]
  },
  {
   "cell_type": "code",
   "execution_count": 2,
   "id": "1775ec65",
   "metadata": {},
   "outputs": [
    {
     "data": {
      "text/plain": [
       "4"
      ]
     },
     "execution_count": 2,
     "metadata": {},
     "output_type": "execute_result"
    }
   ],
   "source": [
    "# lists have a \"length\"\n",
    "len(scores)"
   ]
  },
  {
   "cell_type": "code",
   "execution_count": 3,
   "id": "856176d5",
   "metadata": {},
   "outputs": [
    {
     "data": {
      "text/plain": [
       "61.0"
      ]
     },
     "execution_count": 3,
     "metadata": {},
     "output_type": "execute_result"
    }
   ],
   "source": [
    "# elements of a list are acccessed using [ ] and 0-based index\n",
    "scores[0]  # first score"
   ]
  },
  {
   "cell_type": "code",
   "execution_count": 4,
   "id": "c0ea63f6",
   "metadata": {},
   "outputs": [
    {
     "data": {
      "text/plain": [
       "[61.0, 72.0, 85.0, 92.0]"
      ]
     },
     "execution_count": 4,
     "metadata": {},
     "output_type": "execute_result"
    }
   ],
   "source": [
    "# lists can be sorted\n",
    "sorted(scores)  # returns a new list of sorted scores"
   ]
  },
  {
   "cell_type": "code",
   "execution_count": 5,
   "id": "4817ee33",
   "metadata": {},
   "outputs": [
    {
     "data": {
      "text/plain": [
       "[61.0, 85.0, 92.0, 72.0]"
      ]
     },
     "execution_count": 5,
     "metadata": {},
     "output_type": "execute_result"
    }
   ],
   "source": [
    "scores"
   ]
  },
  {
   "cell_type": "code",
   "execution_count": 6,
   "id": "f426af26",
   "metadata": {},
   "outputs": [
    {
     "data": {
      "text/plain": [
       "[61.0, 72.0, 85.0, 92.0]"
      ]
     },
     "execution_count": 6,
     "metadata": {},
     "output_type": "execute_result"
    }
   ],
   "source": [
    "scores.sort()  # in-place sort the list\n",
    "scores"
   ]
  },
  {
   "cell_type": "code",
   "execution_count": 7,
   "id": "098463a2",
   "metadata": {},
   "outputs": [
    {
     "data": {
      "text/plain": [
       "[92.0, 85.0, 72.0, 61.0]"
      ]
     },
     "execution_count": 7,
     "metadata": {},
     "output_type": "execute_result"
    }
   ],
   "source": [
    "scores.reverse()\n",
    "scores"
   ]
  },
  {
   "cell_type": "code",
   "execution_count": 8,
   "id": "6c7eabbf",
   "metadata": {},
   "outputs": [],
   "source": [
    "scores.append(22)"
   ]
  },
  {
   "cell_type": "code",
   "execution_count": 9,
   "id": "3875b6a7",
   "metadata": {},
   "outputs": [
    {
     "data": {
      "text/plain": [
       "[92.0, 85.0, 72.0, 61.0, 22]"
      ]
     },
     "execution_count": 9,
     "metadata": {},
     "output_type": "execute_result"
    }
   ],
   "source": [
    "scores"
   ]
  },
  {
   "cell_type": "code",
   "execution_count": 10,
   "id": "83df02d2",
   "metadata": {},
   "outputs": [
    {
     "data": {
      "text/plain": [
       "[92.0, 85.0, 25, 72.0, 61.0, 22]"
      ]
     },
     "execution_count": 10,
     "metadata": {},
     "output_type": "execute_result"
    }
   ],
   "source": [
    "scores.insert(2, 25)\n",
    "scores"
   ]
  },
  {
   "cell_type": "code",
   "execution_count": 11,
   "id": "f9eb846e",
   "metadata": {},
   "outputs": [
    {
     "data": {
      "text/plain": [
       "22"
      ]
     },
     "execution_count": 11,
     "metadata": {},
     "output_type": "execute_result"
    }
   ],
   "source": [
    "scores.pop()"
   ]
  },
  {
   "cell_type": "markdown",
   "id": "e260ab68",
   "metadata": {},
   "source": [
    "Just like `.sort()` method, lists have all kinds of useful methods `.insert`, `.remove`, `.pop`, `.reverse`, ...  \n",
    "\n",
    "You can see all those methods by starting to type `scores.` then pause for a second to see the auto-complete suggestions:"
   ]
  },
  {
   "cell_type": "code",
   "execution_count": 12,
   "id": "3962b338",
   "metadata": {},
   "outputs": [],
   "source": [
    "# scores."
   ]
  },
  {
   "cell_type": "code",
   "execution_count": 13,
   "id": "ea86a373",
   "metadata": {},
   "outputs": [],
   "source": [
    "scores = [61.0, 85.0, 92.0, 72.0]\n",
    "scores.sort()"
   ]
  },
  {
   "cell_type": "markdown",
   "id": "41d26d8e",
   "metadata": {},
   "source": [
    "## For loops\n",
    "\n",
    "The \"for loop\" is a Python code construct of the form:\n",
    "```\n",
    "for el in container:\n",
    "    <operations on el>\n",
    "\n",
    "```\n",
    "that allows to repeat a block of operations **for each element of the list**."
   ]
  },
  {
   "cell_type": "code",
   "execution_count": 14,
   "id": "06b5d131",
   "metadata": {},
   "outputs": [
    {
     "name": "stdout",
     "output_type": "stream",
     "text": [
      "61.0\n",
      "72.0\n",
      "85.0\n",
      "92.0\n"
     ]
    }
   ],
   "source": [
    "# Example 1: print all the scores\n",
    "for score in scores:\n",
    "    print(score)"
   ]
  },
  {
   "cell_type": "code",
   "execution_count": 15,
   "id": "0d73187d",
   "metadata": {},
   "outputs": [
    {
     "data": {
      "text/plain": [
       "77.5"
      ]
     },
     "execution_count": 15,
     "metadata": {},
     "output_type": "execute_result"
    }
   ],
   "source": [
    "# Example 2: compute the average score  ==  sum(scores)/len(scores)\n",
    "total = 0\n",
    "for score in scores:\n",
    "    total = total + score\n",
    "\n",
    "total/len(scores)"
   ]
  },
  {
   "cell_type": "markdown",
   "id": "3fa3091e",
   "metadata": {},
   "source": [
    "The name of the variable used for the for loop is totally up to you, but in general you should choose logical names for elements of the list.\n",
    "\n",
    "Here is a for loop that uses the single-letter variable:"
   ]
  },
  {
   "cell_type": "code",
   "execution_count": 16,
   "id": "05ee47f4",
   "metadata": {},
   "outputs": [
    {
     "ename": "SyntaxError",
     "evalue": "invalid syntax (2181820327.py, line 6)",
     "output_type": "error",
     "traceback": [
      "\u001b[0;36m  File \u001b[0;32m\"/tmp/ipykernel_1651/2181820327.py\"\u001b[0;36m, line \u001b[0;32m6\u001b[0m\n\u001b[0;31m    for (i=0; i<length(scores); i=i+1){\u001b[0m\n\u001b[0m          ^\u001b[0m\n\u001b[0;31mSyntaxError\u001b[0m\u001b[0;31m:\u001b[0m invalid syntax\n"
     ]
    }
   ],
   "source": [
    "for s in scores:\n",
    "    print(s)\n",
    "\n",
    "\n",
    "\n",
    "for (i=0; i<length(scores); i=i+1){\n",
    "    s = scores[i];\n",
    "    print(s);\n",
    "}"
   ]
  },
  {
   "cell_type": "code",
   "execution_count": null,
   "id": "d329daac",
   "metadata": {},
   "outputs": [],
   "source": [
    "scores"
   ]
  },
  {
   "cell_type": "code",
   "execution_count": null,
   "id": "2c24fb96",
   "metadata": {},
   "outputs": [],
   "source": [
    "enumerate(scores)"
   ]
  },
  {
   "cell_type": "code",
   "execution_count": null,
   "id": "5d9d5945",
   "metadata": {},
   "outputs": [],
   "source": [
    "# Bonus concept: use `enumerate` to get pairs (index, value) from a list\n",
    "# enumerate(scores) == [(0, 61.0), (1, 72.0), (2, 85.0), (3, 92.0)]\n",
    "\n",
    "# example\n",
    "for index, score in enumerate(scores):\n",
    "    # this for loop has two variables index and score\n",
    "    print(\"Processing score\", score, \"which is at index\", index, \"in the list\")"
   ]
  },
  {
   "cell_type": "code",
   "execution_count": null,
   "id": "6b812dc7",
   "metadata": {},
   "outputs": [],
   "source": [
    "# New concept: use `zip(list1,list2)` to get pairs (value1, value2) from two lists \n",
    "# list(zip([1,2,3], ['a','b','c'])) == [(1, 'a'), (2, 'b'), (3, 'c')]\n",
    "\n",
    "# example\n",
    "list1 = [1,2,3]\n",
    "list2 = [3,3,5]\n",
    "list3 = [11, 22, 33]\n",
    "\n",
    "for value1, value2, value3 in zip(list1, list2, list3):\n",
    "    print(\"Processing  value1 =\", value1, \" and  value2 =\", value2, 'val3=', value3)\n"
   ]
  },
  {
   "cell_type": "code",
   "execution_count": null,
   "id": "46162631",
   "metadata": {},
   "outputs": [],
   "source": [
    "list1 = [1,2,3]\n",
    "list2 = [3,3,5]\n",
    "\n",
    "\n",
    "list(zip(list1, list2))"
   ]
  },
  {
   "cell_type": "code",
   "execution_count": null,
   "id": "b2913eca",
   "metadata": {},
   "outputs": [],
   "source": []
  },
  {
   "cell_type": "code",
   "execution_count": null,
   "id": "c319a3a5",
   "metadata": {},
   "outputs": [],
   "source": []
  },
  {
   "cell_type": "markdown",
   "id": "c0d5dbd7",
   "metadata": {},
   "source": [
    "### List functions\n",
    "\n",
    "Your turn to play with lists now! Complete the code required to implement the functions `compute_mean` and `compute_std` below.\n",
    "\n",
    "\n",
    "#### Question 1: Mean\n",
    "\n",
    "The formula for the mean of a list of numbers $[x_1, x_2, \\ldots, x_n]$ is:\n",
    "$$\n",
    "    \\text{mean} = \\overline{x}\n",
    "    = \\frac{1}{n}\\sum_{i=1}^n x_i\n",
    "    = \\tfrac{1}{n} \\left[ x_1 + x_2 + \\cdots + x_n \\right].\n",
    "$$\n",
    "\n",
    "\n",
    "Write the function `compute_mean(numbers)`: a function that computes the mean of a list of numbers"
   ]
  },
  {
   "cell_type": "code",
   "execution_count": null,
   "id": "47aa0230",
   "metadata": {},
   "outputs": [],
   "source": [
    "def compute_mean(numbers):\n",
    "    \"\"\"\n",
    "    Computes the arithmetic mean of the `numbers` list using a for loop.\n",
    "    \"\"\"\n",
    "    total = 0\n",
    "    for number in numbers:\n",
    "        total = total + number\n",
    "    mean = total/len(numbers)  \n",
    "    return mean\n",
    "\n",
    "\n",
    "compute_mean([100,101])"
   ]
  },
  {
   "cell_type": "code",
   "execution_count": null,
   "id": "8eb346e7",
   "metadata": {},
   "outputs": [],
   "source": [
    "# TEST CODE (run this code to test you solution)\n",
    "\n",
    "def random_list(n=10, min=0.0, max=100.0):\n",
    "    \"\"\"Returns a list of length `n` of random floats between `min` and `max`.\"\"\"\n",
    "    import random\n",
    "    values = []\n",
    "    for i in range(n):\n",
    "        r = random.random()\n",
    "        value = min + r*(max-min)\n",
    "        values.append(value)\n",
    "    return values\n",
    "\n",
    "\n",
    "def test_compute_mean(function):\n",
    "    \"\"\"\n",
    "    Run a few lists to check if value returned by `function` matches expected.\n",
    "    \"\"\"\n",
    "    import math, statistics\n",
    "    assert function([1,1,1]) == 1\n",
    "    assert function([61,72,85,92]) == 77.5\n",
    "    list10 = random_list(n=10)\n",
    "    assert math.isclose(function(list10), statistics.mean(list10))\n",
    "    list100 = random_list(n=100)\n",
    "    assert math.isclose(function(list100), statistics.mean(list100))\n",
    "    print(\"All tests passed. Good job y'all!\")\n",
    "\n",
    "\n",
    "\n",
    "# RUN TESTS\n",
    "test_compute_mean(compute_mean)"
   ]
  },
  {
   "cell_type": "code",
   "execution_count": null,
   "id": "c7f00bfe",
   "metadata": {},
   "outputs": [],
   "source": [
    "(1 + 1e-15)  ==  1 "
   ]
  },
  {
   "cell_type": "code",
   "execution_count": null,
   "id": "e59f5908",
   "metadata": {},
   "outputs": [],
   "source": [
    "import math\n",
    "math.isclose(1 + 1e-10, 1)"
   ]
  },
  {
   "cell_type": "code",
   "execution_count": null,
   "id": "c0587b71",
   "metadata": {},
   "outputs": [],
   "source": []
  },
  {
   "cell_type": "markdown",
   "id": "66cf3e1c",
   "metadata": {},
   "source": [
    "#### Question 2: Sample standard deviation\n",
    "\n",
    "The formula for the sample standard seviation of a list of numbers is:\n",
    "$$\n",
    "    \\text{std} = s\n",
    "    = \\sqrt{ \\tfrac{1}{n-1}\\sum_{i=1}^n (x_i-\\overline{x})^2 }\n",
    "    = \\sqrt{ \\tfrac{1}{n-1}\\left[ (x_1-\\overline{x})^2 + (x_2-\\overline{x})^2 + \\cdots + (x_n-\\overline{x})^2\\right]}.\n",
    "$$\n",
    "\n",
    "Note the division is by $(n-1)$ and not $n$. Strange, no? You'll have to wait until stats to see why this is the case.\n",
    "\n",
    "Write `compute_std(numbers)`: computes the sample standard deviation"
   ]
  },
  {
   "cell_type": "code",
   "execution_count": null,
   "id": "31fbf38f",
   "metadata": {},
   "outputs": [],
   "source": [
    "import math\n",
    "import statistics\n",
    "\n",
    "def compute_std(numbers):\n",
    "    \"\"\"\n",
    "    Computes the sample standard deviation (square root of the sample variance)\n",
    "    using a for loop.\n",
    "    \"\"\"\n",
    "    mean = compute_mean(numbers) \n",
    "    total = 0\n",
    "    for number in numbers:\n",
    "        total = total + (number-mean)**2\n",
    "    var = total/(len(numbers)-1)    \n",
    "    return math.sqrt(var)\n",
    "\n",
    "numbers = list(range(0,100))\n",
    "compute_std(numbers)"
   ]
  },
  {
   "cell_type": "code",
   "execution_count": null,
   "id": "c4316429",
   "metadata": {},
   "outputs": [],
   "source": [
    "# compare to known good function...\n",
    "statistics.stdev(numbers)"
   ]
  },
  {
   "cell_type": "code",
   "execution_count": null,
   "id": "e7d7fe69",
   "metadata": {},
   "outputs": [],
   "source": [
    "# TEST CODE (run this code to test you solution)\n",
    "\n",
    "def test_compute_std(function):\n",
    "    \"\"\"\n",
    "    Run a few lists to check if value returned by `function` matches expected.\n",
    "    \"\"\"\n",
    "    import math, statistics\n",
    "    assert function([1,1,1]) == 0\n",
    "    assert math.isclose(function([61,72,85,92]), 13.771952173409064)\n",
    "    list10 = random_list(n=10)\n",
    "    assert math.isclose(function(list10), statistics.stdev(list10))\n",
    "    list100 = random_list(n=100)\n",
    "    assert math.isclose(function(list100), statistics.stdev(list100))\n",
    "    print(\"All tests passed. Good job y'all!\")\n",
    "\n",
    "\n",
    "# RUN TESTS\n",
    "test_compute_std(compute_std)"
   ]
  },
  {
   "cell_type": "code",
   "execution_count": null,
   "id": "b795b3b6",
   "metadata": {},
   "outputs": [],
   "source": []
  },
  {
   "cell_type": "markdown",
   "id": "41b5737e",
   "metadata": {},
   "source": [
    "## Vectors\n",
    "A vector $\\vec{v} \\in \\mathbb{R}^n$ is an $n$-tuple of real numbers:\n",
    "\n",
    "$$\n",
    " \\vec{v} = (v_1,v_2,v_3, \\ldots, v_n) \\  \\in \\  \\mathbb{R}^n.\n",
    "$$\n",
    "\n",
    "To specify the vector $\\vec{v}$, \n",
    "we specify the values for its components $v_1$, $v_2$, $v_3$, ..., $v_n$.\n",
    "\n",
    "In Python, we can represent vectors as lists:"
   ]
  },
  {
   "cell_type": "code",
   "execution_count": null,
   "id": "c510d9a7",
   "metadata": {},
   "outputs": [],
   "source": [
    "# the two-dimensional vector represented as a Python list\n",
    "v = [3,2]\n",
    "v"
   ]
  },
  {
   "cell_type": "code",
   "execution_count": null,
   "id": "0e3db804",
   "metadata": {},
   "outputs": [],
   "source": [
    "# try playing around with a vector using a for loop..."
   ]
  },
  {
   "cell_type": "markdown",
   "id": "b94469fb",
   "metadata": {},
   "source": [
    "### Other ways of representing vectos (optional reading)"
   ]
  },
  {
   "cell_type": "code",
   "execution_count": null,
   "id": "543dabe6",
   "metadata": {},
   "outputs": [],
   "source": [
    "# Option 2: vector as a n-by-1 SymPy Matrix (useful for doing math calculations)\n",
    "from sympy import Matrix\n",
    "v_sym = Matrix([3,2])\n",
    "v_sym"
   ]
  },
  {
   "cell_type": "code",
   "execution_count": null,
   "id": "fedee965",
   "metadata": {},
   "outputs": [],
   "source": [
    "# Option 3: numpy array (useful for doing fast numerical calculations)\n",
    "import numpy as np\n",
    "v_np = np.array([3,2])\n",
    "v_np"
   ]
  },
  {
   "cell_type": "code",
   "execution_count": null,
   "id": "4b12d00c",
   "metadata": {},
   "outputs": [],
   "source": [
    "# Option 4: pandas series (used in statistics and data science)\n",
    "# Option 5: pytorch array (used in machine learning)"
   ]
  },
  {
   "cell_type": "markdown",
   "id": "af0cbe16",
   "metadata": {},
   "source": [
    "### Vector functions\n",
    "\n",
    "To get to know vectors better, you'll now implement a few common vector operations. Make sure all the functions you create work for vector of any length."
   ]
  },
  {
   "cell_type": "markdown",
   "id": "23c3881a",
   "metadata": {},
   "source": [
    "### Question 3: \n",
    "\n",
    "Writh `norm(v)` a function that takes `n`-dimensional vector and computes its [Euclidean norm](https://en.wikipedia.org/wiki/Norm_(mathematics)#Euclidean_norm)"
   ]
  },
  {
   "cell_type": "code",
   "execution_count": null,
   "id": "cdaa3915",
   "metadata": {},
   "outputs": [],
   "source": [
    "def norm(v):\n",
    "    \"\"\"\n",
    "    Compute the L2-norm (Euclidean norm) of the vector `v` (a list).\n",
    "    \"\"\"\n",
    "    total=0\n",
    "    if len(v) in range(2,10):\n",
    "       for number in v:\n",
    "          total=total+(number)**2\n",
    "       from math import sqrt    \n",
    "       norm_of_v= math.sqrt(total)\n",
    "       return float(norm_of_v)\n",
    "          "
   ]
  },
  {
   "cell_type": "code",
   "execution_count": null,
   "id": "e5000fd8",
   "metadata": {},
   "outputs": [],
   "source": [
    "# TEST CODE (run this code to test you solution)\n",
    "import numpy\n",
    "\n",
    "def test_norm(function):\n",
    "    \"\"\"\n",
    "    Run a few lists to check if value returned by `function` matches expected.\n",
    "    \"\"\"\n",
    "    from math import isclose\n",
    "    assert isclose(function([1,1,1]), 1.7320508075688772)\n",
    "    assert isclose(function([61,72,85,92]), 156.8247429457482)\n",
    "    list3 = random_list(n=3)\n",
    "    assert isclose(function(list3), numpy.linalg.norm(list3))\n",
    "    print(\"All tests passed. Good job y'all!\")\n",
    "    \n",
    "# END OF TEST CODE\n",
    "\n",
    "\n",
    "# Let's run the tests...\n",
    "test_norm(norm)"
   ]
  },
  {
   "cell_type": "code",
   "execution_count": null,
   "id": "980b6353",
   "metadata": {},
   "outputs": [],
   "source": []
  },
  {
   "cell_type": "markdown",
   "id": "e34b4a20",
   "metadata": {},
   "source": [
    "### Question 4\n",
    "\n",
    "Write `dot(u,v)` a function that takes two n-dimensional vectors and computes their dot product:"
   ]
  },
  {
   "cell_type": "code",
   "execution_count": null,
   "id": "67c9d384",
   "metadata": {},
   "outputs": [],
   "source": [
    "def dot(u,v):\n",
    "    \"\"\"\n",
    "    Takes two n-dimensional vectors and computes their dot product.\n",
    "    \"\"\" \n",
    "    total = 0\n",
    "    for ui, vi in zip(u,v):\n",
    "        total = total + (ui*vi)\n",
    "    return float(total)\n",
    "\n"
   ]
  },
  {
   "cell_type": "code",
   "execution_count": null,
   "id": "b283cf22",
   "metadata": {},
   "outputs": [],
   "source": [
    "# TEST CODE (run this code to test you solution)\n",
    "\n",
    "def test_dot(function):\n",
    "    \"\"\"\n",
    "    Run a few lists to check if value returned by `function` matches expected.\n",
    "    \"\"\"\n",
    "    from math import isclose\n",
    "    import numpy as np\n",
    "    assert function([1,2], [3,4]) == 1*3 + 2*4\n",
    "    u3 = random_list(n=3)\n",
    "    v3 = random_list(n=3)\n",
    "    assert isclose(function(u3,v3), np.array(u3).dot(np.array(v3)))\n",
    "    for n in range(4, 10):\n",
    "        un = random_list(n=n)\n",
    "        vn = random_list(n=n)\n",
    "        assert isclose(function(un,vn), np.array(un).dot(np.array(vn)))\n",
    "    print(\"All tests passed. Good job y'all!\")\n",
    "\n",
    "\n",
    "# Let's run the tests...\n",
    "test_dot(dot)"
   ]
  },
  {
   "cell_type": "code",
   "execution_count": null,
   "id": "af3273ed",
   "metadata": {},
   "outputs": [],
   "source": []
  },
  {
   "cell_type": "markdown",
   "id": "9ebc3bc5",
   "metadata": {},
   "source": [
    "### Question 5:\n",
    "\n",
    "Write `cross(u,v)`: a function that takes two 3-dimensional vectors and computes their cross product"
   ]
  },
  {
   "cell_type": "code",
   "execution_count": null,
   "id": "32393ae4",
   "metadata": {},
   "outputs": [],
   "source": [
    "def cross(u, v):\n",
    "    \"\"\"\n",
    "    A function that computes the cross product u x v of the inputs u and v, which\n",
    "    are assumed to be 3-dimensional vectors.\n",
    "    Returns a list.\n",
    "    \"\"\"\n",
    "    if len(u) != 3 or len(v) != 3:\n",
    "        # this will make the function reject vectors that are not 3-dimensional\n",
    "        raise ValueError(\"Inputs vects must have dim. 3, else cross product not defined.\")\n",
    "    cross = [(u[1]*v[2]-u[2]*v[1]),\n",
    "             (u[2]*v[0]-u[0]*v[2]),\n",
    "             (u[0]*v[1]-u[1]*v[0])]\n",
    "    return [float(cross[0]),\n",
    "            float(cross[1]),\n",
    "            float(cross[2])]\n"
   ]
  },
  {
   "cell_type": "code",
   "execution_count": null,
   "id": "23009381",
   "metadata": {},
   "outputs": [],
   "source": [
    "# TEST CODE (run this code to test you solution)\n",
    "\n",
    "def test_cross(function):\n",
    "    \"\"\"\n",
    "    Run a few lists to check if value returned by `function` matches expected.\n",
    "    \"\"\"\n",
    "    import numpy as np\n",
    "    u3 = random_list(n=3)\n",
    "    v3 = random_list(n=3)\n",
    "    w3_computed = np.array( function(u3,v3), dtype=float)\n",
    "    np.isclose(w3_computed, np.cross(np.array(u3), np.array(v3)))\n",
    "    print(\"All tests passed. Good job!\")\n",
    "\n",
    "\n",
    "# Let's run the tests...\n",
    "test_cross(cross)"
   ]
  },
  {
   "cell_type": "code",
   "execution_count": null,
   "id": "191b4fa8",
   "metadata": {},
   "outputs": [],
   "source": []
  },
  {
   "cell_type": "markdown",
   "id": "aff46c9b",
   "metadata": {},
   "source": [
    "### Question 6\n",
    "\n",
    "Write the function `angle_between(u,v)`: a function that takes two n-dimensional vectors and computes their angle between them (answer returned should be in radians)"
   ]
  },
  {
   "cell_type": "code",
   "execution_count": null,
   "id": "54fa34ce",
   "metadata": {},
   "outputs": [],
   "source": [
    "def angle_between(u, v):\n",
    "    \"\"\"\n",
    "    Compute the angle between vectors `u` and `v` (answer returned in radians).\n",
    "    \"\"\"                                       \n",
    "    cos_theta = dot(u,v)/(norm(v)* norm(v))\n",
    "    import math  \n",
    "    return math.acos(cos_theta)                                 # or ME: import math\n"
   ]
  },
  {
   "cell_type": "code",
   "execution_count": null,
   "id": "2eac83b7",
   "metadata": {},
   "outputs": [],
   "source": [
    "# TEST CODE (run this code to test you solution)\n",
    "\n",
    "def test_angle_between(function):\n",
    "    \"\"\"\n",
    "    Run a few lists to check if value returned by `function` matches expected.\n",
    "    \"\"\"\n",
    "    from math import isclose\n",
    "    isclose(function([1,0], [0,1]), 1.5707963267948966)\n",
    "    isclose(function([1,1], [1,0]), 0.7853981633974484)\n",
    "    isclose(function([1,0],[-1,0]), 3.141592653589793)\n",
    "    print(\"All tests passed. Good job!\")\n",
    "\n",
    "\n",
    "# Let's run the tests...\n",
    "test_angle_between(angle_between)"
   ]
  },
  {
   "cell_type": "code",
   "execution_count": null,
   "id": "ebfe67a7",
   "metadata": {},
   "outputs": [],
   "source": []
  },
  {
   "cell_type": "markdown",
   "id": "d4b5a301",
   "metadata": {},
   "source": [
    "### Things to discuss"
   ]
  },
  {
   "cell_type": "code",
   "execution_count": null,
   "id": "e09f4f83",
   "metadata": {},
   "outputs": [],
   "source": [
    "## 1. imports\n",
    "from math import acos\n",
    "acos(1)\n",
    "# vs\n",
    "import math\n",
    "math.acos(1)\n",
    "\n",
    "\n",
    "\n",
    "## 2. list membership\n",
    "v = [3,2]\n",
    "len(v) == range(2,10)\n",
    "\n",
    "\n",
    "\n",
    "## 3. joint-iteration over two lists using zip\n",
    "\n",
    "\n",
    "## 4. float(cross) error\n",
    "\n",
    "\n",
    "## 5. syntax for defining vs. calling functions\n",
    "\n"
   ]
  },
  {
   "cell_type": "code",
   "execution_count": null,
   "id": "996462ef",
   "metadata": {},
   "outputs": [],
   "source": []
  },
  {
   "cell_type": "code",
   "execution_count": null,
   "id": "2d03c97c",
   "metadata": {},
   "outputs": [],
   "source": []
  }
 ],
 "metadata": {
  "jupytext": {
   "text_representation": {
    "extension": ".md",
    "format_name": "myst",
    "format_version": 0.13,
    "jupytext_version": "1.10.3"
   }
  },
  "kernelspec": {
   "display_name": "Python 3",
   "name": "python3"
  },
  "language_info": {
   "codemirror_mode": {
    "name": "ipython",
    "version": 3
   },
   "file_extension": ".py",
   "mimetype": "text/x-python",
   "name": "python",
   "nbconvert_exporter": "python",
   "pygments_lexer": "ipython3",
   "version": "3.8.12"
  },
  "source_map": [
   11,
   36,
   42,
   47,
   52,
   57,
   62,
   66,
   71,
   76,
   80,
   84,
   89,
   91,
   97,
   101,
   104,
   117,
   123,
   130,
   136,
   148,
   152,
   156,
   166,
   180,
   188,
   192,
   194,
   214,
   229,
   262,
   266,
   272,
   274,
   290,
   310,
   315,
   336,
   338,
   356,
   362,
   364,
   368,
   375,
   382,
   385,
   391,
   397,
   412,
   434,
   436,
   443,
   456,
   480,
   482,
   490,
   509,
   529,
   531,
   537,
   548,
   566,
   568,
   573,
   601,
   605
  ]
 },
 "nbformat": 4,
 "nbformat_minor": 5
}