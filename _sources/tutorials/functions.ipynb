{
 "cells": [
  {
   "cell_type": "markdown",
   "id": "a22249cc",
   "metadata": {},
   "source": [
    "# Python Coding Tutorial Part 2: functions\n",
    "\n",
    "Functions are one of the most important concepts in math and programming.\n",
    "\n",
    "\n",
    "    y = f(x)  # common convention in math to call function inputs x, and outputs y\n",
    "\n",
    "We can also draw as `x -----f----> y` the function is a map from input values x to an output value y\n",
    "\n",
    "\n",
    "    def f(x):\n",
    "        <steps to compute y from x>\n",
    "        return y\n",
    "\n",
    "\n",
    "Functions!! Finally we get to the good stuff! The previous two sessions were important\n",
    "foundations, but now we get to unlocking the first superpower — modelling.\n",
    "Once you know the basic properties of 10 or so functions,\n",
    "you can build precise mathematical models for any real-world system.\n",
    "\n",
    "\n",
    "Functions are all over the place:\n",
    "- In high school math (the green book) we learn the basic vocabulary of y=f(x) functions\n",
    "  and their parameters, which allows us to describe any real world process\n",
    "- In calculus we analyze functions f(x) behaviour over time\n",
    "  (integral of f = sum of values of f(x) between x=start and x=finish;\n",
    "  and derivative of f at a = the slope of the graph of f(x) when x=a)\n",
    "- In linear algebra we study linear transformations, which are functions\n",
    "  that satisfy f(ax+by)=af(x)+bf(y), meaning a linear combination of inputs\n",
    "  produces the same linear combination of outputs.\n",
    "- In probability theory we use functions to describe the probability density of\n",
    "  a random variables. For example X = Normal(mu, sigma^2) is a random variable\n",
    "  whose density is described by the function p(x) = K*exp(-((x-mu)/sigma)^2/2)\n",
    "  in stats we talk about functions computed from samples (estimators)\n",
    "- In ML we learn about probabilistic models and use them to predict y from given input x"
   ]
  },
  {
   "cell_type": "markdown",
   "id": "569af379",
   "metadata": {},
   "source": [
    "## Python functions\n",
    "\n",
    "Functions in Python are similar to functions in math: a transformation that takes certain inputs and produces certain outputs. The math functions you're familiar with take numbers as inputs and produce numebrs as outputs, but a Python function can take on any type of input and produce any type of output.\n",
    "\n",
    "Functions allow us to build chunks of reusable code that we can later reuse in other programs.\n",
    "\n",
    "We declare a function with the keyword `def`.\n",
    "\n",
    "```python\n",
    "def function_name(function inputs):\n",
    "    \"\"\"\n",
    "    doc string that describes what the function does (optional)\n",
    "    \"\"\"\n",
    "    <function body line 1>\n",
    "    <function body line 2>\n",
    "    <function body line ...>\n",
    "    <function body line n-1>\n",
    "    return <function output value>\n",
    "```\n",
    "\n",
    "We enter the name of the function, then define the functions arguments inside parentheses—the names of the variables that the function receives as inputs. Then the function body is written as an indented block of code (all lines start with four spaces indentation). The output of the function is specified using the `return` keyword. The return statement is usually the last line in the function body.\n",
    "\n",
    "Certain functions do not return a value (we call these _procedures_) and they consist of sequences of commands we want to execute, that don't have any outputs. FunctIons can also be attached to objects, in which case they are called _methods_. We'll talk about these layer on, for now let's focus on simple math-like functions that receive some input and produce output:\n",
    "\n",
    "### Example 1\n",
    "\n",
    "A first example of a simple math-like function. The function is called `f`,\n",
    "takes numbers as inputs, and produces numbers as outputs:"
   ]
  },
  {
   "cell_type": "code",
   "execution_count": 1,
   "id": "b3f5e347",
   "metadata": {},
   "outputs": [
    {
     "data": {
      "text/plain": [
       "23"
      ]
     },
     "execution_count": 1,
     "metadata": {},
     "output_type": "execute_result"
    }
   ],
   "source": [
    "def f(x):\n",
    "    return 2*x + 3\n",
    "\n",
    "f(10)"
   ]
  },
  {
   "cell_type": "code",
   "execution_count": null,
   "id": "2dbc3e0a",
   "metadata": {},
   "outputs": [],
   "source": []
  },
  {
   "cell_type": "markdown",
   "id": "4c4b8ee2",
   "metadata": {},
   "source": [
    "### Example 2"
   ]
  },
  {
   "cell_type": "code",
   "execution_count": 2,
   "id": "4a157542",
   "metadata": {},
   "outputs": [
    {
     "name": "stdout",
     "output_type": "stream",
     "text": [
      "heads\n"
     ]
    }
   ],
   "source": [
    "# Example from Session 1\n",
    "import random\n",
    "\n",
    "def flip_coin():\n",
    "    r = random.random()\n",
    "    if r < 0.5:\n",
    "        print(\"heads\")\n",
    "    else:\n",
    "        print(\"tails\")\n",
    "\n",
    "flip_coin()  # no return value, but prints output"
   ]
  },
  {
   "cell_type": "markdown",
   "id": "17a66fa8",
   "metadata": {},
   "source": [
    "### Example 3\n",
    "\n",
    "Write a function `water_phase(temp)` that takes input temperature `temp` in Celcius,\n",
    "uses if/else statements to find what state water is in (assume pressure is 1atm).\n",
    "The function returns a string, which is one of \"Solid\", \"Liquid\", \"Gas\"."
   ]
  },
  {
   "cell_type": "code",
   "execution_count": 3,
   "id": "1a9e667f",
   "metadata": {},
   "outputs": [],
   "source": [
    "def water_phase(temp):\n",
    "    \"\"\"\n",
    "    Returns phase of water at `temp`.\n",
    "    Input temp is temperature in Celcius (int or float)\n",
    "    temp must be greater than −273.15.\n",
    "    \"\"\"\n",
    "    if temp > 0 and temp < 100:\n",
    "        return 'Liquid'\n",
    "    elif temp <= 0:\n",
    "        return 'Solid'\n",
    "    elif temp >= 100:\n",
    "        return 'Gas'"
   ]
  },
  {
   "cell_type": "code",
   "execution_count": 4,
   "id": "86534565",
   "metadata": {},
   "outputs": [],
   "source": [
    "# help(water_phase)\n",
    "water_phase?"
   ]
  },
  {
   "cell_type": "code",
   "execution_count": 5,
   "id": "84a2357e",
   "metadata": {},
   "outputs": [
    {
     "name": "stdout",
     "output_type": "stream",
     "text": [
      "True\n",
      "True\n",
      "True\n",
      "True\n"
     ]
    }
   ],
   "source": [
    "## tests to try: correct implementation of `water_phase` should return all True\n",
    "print( water_phase(20.0) == \"Liquid\" )\n",
    "print( water_phase(-20.0) == \"Solid\" )\n",
    "print( water_phase(200.0) == \"Gas\" )\n",
    "print( water_phase(0.0) in [\"Liquid\", \"Solid\"] )"
   ]
  },
  {
   "cell_type": "code",
   "execution_count": 6,
   "id": "385282ed",
   "metadata": {},
   "outputs": [
    {
     "name": "stdout",
     "output_type": "stream",
     "text": [
      "Completed a total of 5100 checks...\n"
     ]
    },
    {
     "data": {
      "text/plain": [
       "True"
      ]
     },
     "execution_count": 6,
     "metadata": {},
     "output_type": "execute_result"
    }
   ],
   "source": [
    "## range tests\n",
    "results = []\n",
    "\n",
    "for temp in range(1, 100):\n",
    "    result = (water_phase(temp) == 'Liquid')\n",
    "    results.append(result)\n",
    "\n",
    "# temp <= 0\n",
    "for temp in range(-100, 1):\n",
    "    result = (water_phase(temp) == 'Solid')\n",
    "    results.append(result)\n",
    "\n",
    "# temp >= 100\n",
    "for temp in range(100, 5000):\n",
    "    result = (water_phase(temp) == 'Gas')\n",
    "    results.append(result)\n",
    "\n",
    "print('Completed a total of', len(results), 'checks...')\n",
    "all(results)  # True if all results are True"
   ]
  },
  {
   "cell_type": "code",
   "execution_count": 7,
   "id": "1f8f9fe0",
   "metadata": {},
   "outputs": [
    {
     "data": {
      "text/plain": [
       "False"
      ]
     },
     "execution_count": 7,
     "metadata": {},
     "output_type": "execute_result"
    }
   ],
   "source": [
    "# any = OR for a list\n",
    "# all = AND for a list\n",
    "all([True, True, False])"
   ]
  },
  {
   "cell_type": "code",
   "execution_count": null,
   "id": "fe7cbe45",
   "metadata": {},
   "outputs": [],
   "source": []
  },
  {
   "cell_type": "markdown",
   "id": "2863cb4e",
   "metadata": {},
   "source": [
    "## Exercise 2\n",
    "\n",
    "Write a Python function called `aH_to_pH` that converts aH to pH"
   ]
  },
  {
   "cell_type": "code",
   "execution_count": 8,
   "id": "daeb35d3",
   "metadata": {},
   "outputs": [],
   "source": [
    "import math\n",
    "def ah_to_pH(aH):\n",
    "    \"\"\"\n",
    "    Returns the value of aH convetred to pH.\n",
    "    \"\"\"\n",
    "    if aH <= 0:\n",
    "        print(\"Error aH must be a postive number\")\n",
    "        return\n",
    "    pH = -1*math.log(aH,10)\n",
    "    return pH"
   ]
  },
  {
   "cell_type": "markdown",
   "id": "89770b67",
   "metadata": {},
   "source": [
    "Test: if aH=7×10−6  the value of the output should be ..."
   ]
  },
  {
   "cell_type": "code",
   "execution_count": 9,
   "id": "d4d436e6",
   "metadata": {},
   "outputs": [
    {
     "data": {
      "text/plain": [
       "True"
      ]
     },
     "execution_count": 9,
     "metadata": {},
     "output_type": "execute_result"
    }
   ],
   "source": [
    "# tests for ah_to_pH\n",
    "ah_to_pH(1e-7) == 7.0\n",
    "# ah_to_pH(-11)"
   ]
  },
  {
   "cell_type": "markdown",
   "id": "81a9ed38",
   "metadata": {},
   "source": [
    "Write a Python function called `pH_to_aH`  that converts pH to aH"
   ]
  },
  {
   "cell_type": "code",
   "execution_count": 10,
   "id": "b53d2668",
   "metadata": {},
   "outputs": [],
   "source": [
    "# Exercise 3\n",
    "import math\n",
    "def ph_to_aH(pH):\n",
    "  \"value of pH converted to aH: \"\n",
    "  aH=10**(-1*pH)\n",
    "  return aH"
   ]
  },
  {
   "cell_type": "markdown",
   "id": "8db64e25",
   "metadata": {},
   "source": [
    "Test: if pH=7 the value of the expression should match the answer to the second problem in Mission 2\n",
    "\n",
    "\n",
    "### Exercise 4"
   ]
  },
  {
   "cell_type": "code",
   "execution_count": 11,
   "id": "ad9b256e",
   "metadata": {},
   "outputs": [],
   "source": [
    "import random\n",
    "def roll_die():\n",
    "  call_die = random.randint(1, 6)\n",
    "  return call_die"
   ]
  },
  {
   "cell_type": "code",
   "execution_count": 12,
   "id": "704c0ab0",
   "metadata": {},
   "outputs": [
    {
     "data": {
      "text/plain": [
       "1"
      ]
     },
     "execution_count": 12,
     "metadata": {},
     "output_type": "execute_result"
    }
   ],
   "source": [
    "roll_die()"
   ]
  },
  {
   "cell_type": "code",
   "execution_count": 13,
   "id": "ed07ae37",
   "metadata": {},
   "outputs": [],
   "source": [
    "for n in range(0,10000):\n",
    "    if roll_die() not in [1,2,3,4,5,6]:\n",
    "        print(\"error\")"
   ]
  },
  {
   "cell_type": "markdown",
   "id": "ff10e6f2",
   "metadata": {},
   "source": [
    "### Exercise 5\n",
    "Complete the function called `roll_backgammon_dice`\n",
    "(call roll_die twice; returns a list with two elements,\n",
    "if roll result is \"double six\" = [6,6], print additional string \"Dü Şeş\" on the screen"
   ]
  },
  {
   "cell_type": "code",
   "execution_count": 14,
   "id": "85cdf73f",
   "metadata": {},
   "outputs": [],
   "source": [
    "import random\n",
    "def roll_backgammon_dice():\n",
    "    first = random.randint(1,6)\n",
    "    second = random.randint(1,6)\n",
    "    if first == 6 and second == 6:\n",
    "        print(\"Dü Şeş\")\n",
    "    return [first, second]"
   ]
  },
  {
   "cell_type": "code",
   "execution_count": 15,
   "id": "3600c919",
   "metadata": {},
   "outputs": [
    {
     "name": "stdout",
     "output_type": "stream",
     "text": [
      "Dü Şeş\n",
      "Dü Şeş\n",
      "Dü Şeş\n"
     ]
    }
   ],
   "source": [
    "for n in range(0,100):\n",
    "    dice = roll_backgammon_dice()\n",
    "    if dice[0] not in [1,2,3,4,5,6]:\n",
    "        print(\"error\")\n",
    "    if dice[1] not in [1,2,3,4,5,6]:\n",
    "        print(\"error\")\n",
    "    "
   ]
  },
  {
   "cell_type": "markdown",
   "id": "f1f2f57d",
   "metadata": {},
   "source": [
    "Noe: to create a list of two values:\n",
    "- start with an opening square bracket `[` ,\n",
    "- then put the first value,\n",
    "- comma `,`,\n",
    "- then the second value,\n",
    "- finally close the square bracket `]`"
   ]
  },
  {
   "cell_type": "code",
   "execution_count": 16,
   "id": "5e3cfcf0",
   "metadata": {},
   "outputs": [
    {
     "data": {
      "text/plain": [
       "[3, 4]"
      ]
     },
     "execution_count": 16,
     "metadata": {},
     "output_type": "execute_result"
    }
   ],
   "source": [
    "first_val = 3\n",
    "second_val = 4\n",
    "\n",
    "my_list = [first_val, second_val]\n",
    "my_list"
   ]
  }
 ],
 "metadata": {
  "jupytext": {
   "text_representation": {
    "extension": ".md",
    "format_name": "myst",
    "format_version": 0.13,
    "jupytext_version": "1.10.3"
   }
  },
  "kernelspec": {
   "display_name": "Python 3",
   "name": "python3"
  },
  "language_info": {
   "codemirror_mode": {
    "name": "ipython",
    "version": 3
   },
   "file_extension": ".py",
   "mimetype": "text/x-python",
   "name": "python",
   "nbconvert_exporter": "python",
   "pygments_lexer": "ipython3",
   "version": "3.8.12"
  },
  "source_map": [
   11,
   50,
   81,
   88,
   90,
   95,
   107,
   115,
   130,
   135,
   143,
   165,
   171,
   173,
   181,
   192,
   197,
   201,
   206,
   213,
   220,
   227,
   231,
   235,
   243,
   253,
   261,
   270
  ]
 },
 "nbformat": 4,
 "nbformat_minor": 5
}