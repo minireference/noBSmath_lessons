{
 "cells": [
  {
   "cell_type": "markdown",
   "id": "84ace374-41d1-40ee-a5c2-3b2832c557da",
   "metadata": {},
   "source": [
    "# Solving equations\n",
    "\n",
    "To solve an equation like $x^2 - 4 = 45$ is to find value(s) of the unknown variable $x$ for which the equation is true.\n",
    "\n",
    "To find $x$, we can manipulate the original equation,\n",
    "transforming it into a different equation (as true as the first) that looks like $x = \\textrm{only numbers}$.\n",
    "\n",
    "The only requirement is that the manipulations we make\n",
    "transform one true equation into another true equation.\n",
    "We can do this by applying the same operation on both sides of the equation.\n",
    "\n",
    "Read the text in [Section 1.1 Solving equations](https://minireference.com/static/excerpts/noBSmath_v5_preview.pdf#page=14) to learn more.\n"
   ]
  },
  {
   "cell_type": "markdown",
   "id": "ec75402e-8259-44f1-af34-fad5e71fe59c",
   "metadata": {
    "jp-MarkdownHeadingCollapsed": true,
    "tags": []
   },
   "source": [
    "### Notebooks setup"
   ]
  },
  {
   "cell_type": "code",
   "execution_count": 18,
   "id": "cbb1636a-20ef-4d8b-9f15-bda17af6cd14",
   "metadata": {},
   "outputs": [],
   "source": [
    "# import sympy\n",
    "from sympy import *\n",
    "from sympy.abc import *"
   ]
  },
  {
   "cell_type": "code",
   "execution_count": 19,
   "id": "3cac79ff-5386-49de-b5ee-641faa899b21",
   "metadata": {},
   "outputs": [],
   "source": [
    "# import and apply mathcube7's hack for\n",
    "# auto-broadcasting operations to Eq.lhs and Eq.rhs\n",
    "from customizer import *"
   ]
  },
  {
   "cell_type": "markdown",
   "id": "0bb043fe-cd85-42c1-8bd8-e77a27224b3f",
   "metadata": {},
   "source": [
    "See the [code here](https://github.com/mathcube7/customize-sympy/blob/main/customizer.py) and read the [blog post](https://awstip.com/customizing-pythons-sympy-for-easy-equation-manipulation-ca30b9d0dabf) if you're interested to learn more about this clever hack."
   ]
  },
  {
   "cell_type": "markdown",
   "id": "f98b96a0-1699-4d84-858b-ba350c84f99f",
   "metadata": {},
   "source": [
    "## Example 1\n",
    "\n",
    "Let's see the similification steps that allow us to solve the equation $x^2 - 4 = 45$.\n",
    "\n",
    "We start by defining the equaiton using the `Eq` class:"
   ]
  },
  {
   "cell_type": "code",
   "execution_count": 3,
   "id": "678c9f55-f960-4f80-a440-eb8ffa28d2d9",
   "metadata": {},
   "outputs": [
    {
     "data": {
      "text/latex": [
       "$\\displaystyle x^{2} - 4 = 45$"
      ],
      "text/plain": [
       "Eq(x**2 - 4, 45)"
      ]
     },
     "execution_count": 3,
     "metadata": {},
     "output_type": "execute_result"
    }
   ],
   "source": [
    "eqn1 = Eq(x**2 - 4, 45)\n",
    "eqn1"
   ]
  },
  {
   "cell_type": "markdown",
   "id": "69f40a0e-05b9-4e9e-aed3-c46cd8a331eb",
   "metadata": {},
   "source": [
    "Add 4 to both sides of the equation:"
   ]
  },
  {
   "cell_type": "code",
   "execution_count": 4,
   "id": "b2727fe7-0ab3-4e3c-87c3-e81241177d8c",
   "metadata": {},
   "outputs": [
    {
     "data": {
      "text/latex": [
       "$\\displaystyle x^{2} = 49$"
      ],
      "text/plain": [
       "Eq(x**2, 49)"
      ]
     },
     "execution_count": 4,
     "metadata": {},
     "output_type": "execute_result"
    }
   ],
   "source": [
    "eqn2 = eqn1 + 4\n",
    "eqn2"
   ]
  },
  {
   "cell_type": "markdown",
   "id": "6e93ad43-1cdf-42e5-8618-aa941a4fea66",
   "metadata": {},
   "source": [
    "To \"undo\" the x-squared operation, we'll apply the square root function, which is inverse function of $x^2$:"
   ]
  },
  {
   "cell_type": "code",
   "execution_count": 8,
   "id": "03429396-4a07-4ebb-8175-4fbce2d9543d",
   "metadata": {},
   "outputs": [
    {
     "data": {
      "text/latex": [
       "$\\displaystyle \\sqrt{x^{2}} = 7$"
      ],
      "text/plain": [
       "Eq(sqrt(x**2), 7)"
      ]
     },
     "execution_count": 8,
     "metadata": {},
     "output_type": "execute_result"
    }
   ],
   "source": [
    "eqn3 = sqrt(eqn2)\n",
    "eqn3"
   ]
  },
  {
   "cell_type": "markdown",
   "id": "74207808-c2aa-4a9f-b613-9b21c987e865",
   "metadata": {},
   "source": [
    "The combination of squaring a number then taking the square root is equivalent to the absolute value function,\n",
    "which erases the sign of the number. The solutions to the equation whose absolute value is $7$.\n",
    "\n",
    "The equation has two solutions: $x=7$ and $x=-7$."
   ]
  },
  {
   "cell_type": "code",
   "execution_count": null,
   "id": "31b0ce50-8770-4a17-be5f-fd84a0d40f29",
   "metadata": {},
   "outputs": [],
   "source": []
  },
  {
   "cell_type": "code",
   "execution_count": null,
   "id": "d096fac4-d430-41d8-a4b1-87fd7efd4947",
   "metadata": {},
   "outputs": [],
   "source": []
  },
  {
   "cell_type": "markdown",
   "id": "1d840268-10c8-44f5-a0d0-ee77d162eace",
   "metadata": {},
   "source": [
    "### Direct solution using `solve`\n",
    "\n",
    "Note we could jump straight to the solution instead of manually doing the steps by calling the `solve` function:"
   ]
  },
  {
   "cell_type": "code",
   "execution_count": 9,
   "id": "b8764e0b-c241-4ebe-b60d-b63b730f5f4c",
   "metadata": {},
   "outputs": [
    {
     "data": {
      "text/plain": [
       "[-7, 7]"
      ]
     },
     "execution_count": 9,
     "metadata": {},
     "output_type": "execute_result"
    }
   ],
   "source": [
    "solve(eqn1)"
   ]
  },
  {
   "cell_type": "markdown",
   "id": "0d9a51f4-be65-4770-b212-94493e1c8221",
   "metadata": {},
   "source": [
    "Another approach is to use numerical solution (necessary for complicated expressions where no analytical solution is possible):"
   ]
  },
  {
   "cell_type": "code",
   "execution_count": 10,
   "id": "8fd4816a-81b6-42b2-a2ac-c402f107e70b",
   "metadata": {},
   "outputs": [
    {
     "data": {
      "text/latex": [
       "$\\displaystyle 7.0$"
      ],
      "text/plain": [
       "7.00000000000000"
      ]
     },
     "execution_count": 10,
     "metadata": {},
     "output_type": "execute_result"
    }
   ],
   "source": [
    "# start the solution algorithm near the value x=1 and look for a solution nearby\n",
    "nsolve(eqn1, 1)"
   ]
  },
  {
   "cell_type": "code",
   "execution_count": 11,
   "id": "b7d41c5f-390a-4eb5-a70e-9de17419e063",
   "metadata": {},
   "outputs": [
    {
     "data": {
      "text/latex": [
       "$\\displaystyle -7.0$"
      ],
      "text/plain": [
       "-7.00000000000000"
      ]
     },
     "execution_count": 11,
     "metadata": {},
     "output_type": "execute_result"
    }
   ],
   "source": [
    "# same thing as above, but we start near x=-1 in order to find the other solution\n",
    "nsolve(eqn1, -1)"
   ]
  },
  {
   "cell_type": "code",
   "execution_count": null,
   "id": "0053d30e-1cfd-40e9-a561-c7edec474afd",
   "metadata": {},
   "outputs": [],
   "source": []
  },
  {
   "cell_type": "code",
   "execution_count": null,
   "id": "04d19f17-f42b-4bb8-b53a-7e4e2ff526c9",
   "metadata": {},
   "outputs": [],
   "source": []
  }
 ],
 "metadata": {
  "kernelspec": {
   "display_name": "Python 3",
   "language": "python",
   "name": "python3"
  },
  "language_info": {
   "codemirror_mode": {
    "name": "ipython",
    "version": 3
   },
   "file_extension": ".py",
   "mimetype": "text/x-python",
   "name": "python",
   "nbconvert_exporter": "python",
   "pygments_lexer": "ipython3",
   "version": "3.6.9"
  }
 },
 "nbformat": 4,
 "nbformat_minor": 5
}
