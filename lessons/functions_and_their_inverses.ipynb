{
 "cells": [
  {
   "cell_type": "markdown",
   "id": "2d53ffaa-789a-4522-88d9-af974b98750d",
   "metadata": {},
   "source": [
    "# Functions and their inverses\n",
    "\n",
    "See [Section 1.5 Solving equations](https://minireference.com/static/excerpts/noBSmath_v5_preview.pdf#page=19) for the intro.\n",
    "\n",
    "In the notebook below we'll use look at examples of equations involving these functions and use apply the inverse function to solve the equations."
   ]
  },
  {
   "cell_type": "markdown",
   "id": "93f466f1-f091-403a-9615-0e2c290288d2",
   "metadata": {
    "tags": []
   },
   "source": [
    "### Notebooks setup"
   ]
  },
  {
   "cell_type": "code",
   "execution_count": 1,
   "id": "bef6d15c-8b5c-4a62-8146-40922b28b21a",
   "metadata": {},
   "outputs": [],
   "source": [
    "# import sympy\n",
    "from sympy import *\n",
    "from sympy.abc import *"
   ]
  },
  {
   "cell_type": "code",
   "execution_count": 2,
   "id": "5df19af8-d53f-47ab-aea6-050e531df8ae",
   "metadata": {},
   "outputs": [],
   "source": [
    "# import and apply mathcube7's hack for\n",
    "# auto-broadcasting operations to Eq.lhs and Eq.rhs\n",
    "from customizer import *"
   ]
  },
  {
   "cell_type": "markdown",
   "id": "c64edd74-e7a1-456e-b268-7d6a568ba60a",
   "metadata": {},
   "source": [
    "See the [code here](https://github.com/mathcube7/customize-sympy/blob/main/customizer.py) and read the [blog post](https://awstip.com/customizing-pythons-sympy-for-easy-equation-manipulation-ca30b9d0dabf) if you're interested to learn more about this clever hack."
   ]
  },
  {
   "cell_type": "code",
   "execution_count": null,
   "id": "adfcb683-d823-40e0-8778-b10f41d6db19",
   "metadata": {},
   "outputs": [],
   "source": []
  },
  {
   "cell_type": "markdown",
   "id": "3edcdaea-db90-43e2-973a-d20dd233e778",
   "metadata": {},
   "source": [
    "### Example 1\n",
    "\n",
    "Solve the equation $x + 2 = 7$."
   ]
  },
  {
   "cell_type": "code",
   "execution_count": 3,
   "id": "e138f282-2ae5-49a3-ab40-a1ceb421b388",
   "metadata": {},
   "outputs": [
    {
     "data": {
      "text/latex": [
       "$\\displaystyle x + 2 = 7$"
      ],
      "text/plain": [
       "Eq(x + 2, 7)"
      ]
     },
     "execution_count": 3,
     "metadata": {},
     "output_type": "execute_result"
    }
   ],
   "source": [
    "eqn1 = Eq(x + 2, 7)\n",
    "eqn1"
   ]
  },
  {
   "cell_type": "markdown",
   "id": "93bdec55-3aae-4d66-a136-b58eaeee17d1",
   "metadata": {},
   "source": [
    "The left hand side describes the function $f(x)=x+2$ (add two to the input).\n",
    "\n",
    "We want to apply the undo opration, i.e., the inverse function $f^{-1}$,\n",
    "which we can lookup in the right hand side of the table.\n",
    "The opposite operation of \"add 2 to the input\" is \"subtract 2 from the input.\"\n",
    "The inverse function of $f(x)=x+2$ is $f^{-1}=x-2$.\n",
    "\n",
    "So if we want to simplify `eqn1` we want to subtract 2 from both sides of the equation"
   ]
  },
  {
   "cell_type": "code",
   "execution_count": 4,
   "id": "c69b2534-b8be-4a86-8502-aa69799953cf",
   "metadata": {},
   "outputs": [
    {
     "data": {
      "text/latex": [
       "$\\displaystyle x = 5$"
      ],
      "text/plain": [
       "Eq(x, 5)"
      ]
     },
     "execution_count": 4,
     "metadata": {},
     "output_type": "execute_result"
    }
   ],
   "source": [
    "eqn1 - 2"
   ]
  },
  {
   "cell_type": "markdown",
   "id": "95e27b8a-3663-472d-bfee-60e56edb6b90",
   "metadata": {},
   "source": [
    "The equation is now [solved](./solving_equations.ipynb).\n",
    "The value of $x$ that satisfies the equation $x + 2 = 7$ is $x=5$."
   ]
  },
  {
   "cell_type": "code",
   "execution_count": 5,
   "id": "63f34f6b-1541-4a0e-9fb0-863f6ea6eb4d",
   "metadata": {},
   "outputs": [
    {
     "data": {
      "text/latex": [
       "$\\displaystyle x = 5$"
      ],
      "text/plain": [
       "Eq(x, 5)"
      ]
     },
     "execution_count": 5,
     "metadata": {},
     "output_type": "execute_result"
    }
   ],
   "source": [
    "# Implementation note: applying -2 to an equation object is convenience-customization\n",
    "# that under the hood creates a new equation where -2 is applied to both the left-hand-side (lhs)\n",
    "# and the right hand side (rhs) of the equation:\n",
    "Eq(eqn1.lhs - 2, eqn1.rhs - 2)"
   ]
  },
  {
   "cell_type": "markdown",
   "id": "0483225f-a739-4000-9f36-ee05b1a5ad10",
   "metadata": {},
   "source": [
    "In all examples below, we'll apply the inferse function on the equation as a whole,\n",
    "but remember that this is shortcut for describing \"apply inverse functoin to both sides of the equation.\""
   ]
  },
  {
   "cell_type": "code",
   "execution_count": null,
   "id": "b1abf60b-9069-4c0b-89b4-90dbf55c61e5",
   "metadata": {},
   "outputs": [],
   "source": []
  },
  {
   "cell_type": "markdown",
   "id": "725b4c75-f647-4036-b045-c477e688c146",
   "metadata": {},
   "source": [
    "### Example 2\n",
    "\n",
    "Solve the equation $2x = 7$."
   ]
  },
  {
   "cell_type": "code",
   "execution_count": 6,
   "id": "e0423b11-9571-4c4a-837a-e98bf210853c",
   "metadata": {},
   "outputs": [
    {
     "data": {
      "text/latex": [
       "$\\displaystyle 2 x = 7$"
      ],
      "text/plain": [
       "Eq(2*x, 7)"
      ]
     },
     "execution_count": 6,
     "metadata": {},
     "output_type": "execute_result"
    }
   ],
   "source": [
    "eqn2 = Eq(2*x, 7)\n",
    "eqn2"
   ]
  },
  {
   "cell_type": "markdown",
   "id": "c499d5f8-5a68-4914-867a-a6f9cd1233ee",
   "metadata": {},
   "source": [
    "The inferse operation of multiply by $2$ is divide by $2$"
   ]
  },
  {
   "cell_type": "code",
   "execution_count": 7,
   "id": "8d9d9245-799f-435e-bdca-aed8946103be",
   "metadata": {},
   "outputs": [
    {
     "data": {
      "text/latex": [
       "$\\displaystyle x = \\frac{7}{2}$"
      ],
      "text/plain": [
       "Eq(x, 7/2)"
      ]
     },
     "execution_count": 7,
     "metadata": {},
     "output_type": "execute_result"
    }
   ],
   "source": [
    "eqn2 / 2"
   ]
  },
  {
   "cell_type": "code",
   "execution_count": null,
   "id": "3649458c-2aea-416b-83b4-88c6b4c97080",
   "metadata": {},
   "outputs": [],
   "source": []
  },
  {
   "cell_type": "markdown",
   "id": "adfb015c-45a7-450b-89ea-b8a22f327457",
   "metadata": {},
   "source": [
    "### Example 3\n",
    "\n",
    "Solve the equation $-x = 7$.\n",
    "\n",
    "The negative of the unknown $x$ is equal to $7$, so $x = -7$.\n",
    "We don't really need to use the whole apply-the-inverse procedure here,\n",
    "but let's still go through the motions:"
   ]
  },
  {
   "cell_type": "code",
   "execution_count": 8,
   "id": "26ad4d63-fa40-44f4-baac-9c5884768a20",
   "metadata": {},
   "outputs": [
    {
     "data": {
      "text/latex": [
       "$\\displaystyle - x = 7$"
      ],
      "text/plain": [
       "Eq(-x, 7)"
      ]
     },
     "execution_count": 8,
     "metadata": {},
     "output_type": "execute_result"
    }
   ],
   "source": [
    "eqn3 = Eq(-x, 7)\n",
    "eqn3"
   ]
  },
  {
   "cell_type": "markdown",
   "id": "b2fe1930-5041-4d87-a7c9-4ca6c41573cf",
   "metadata": {},
   "source": [
    "The inverse function of $f(x)=-x$ (multiply by -1) is $f^{-1}=-x$ (multiply by -1)."
   ]
  },
  {
   "cell_type": "code",
   "execution_count": 9,
   "id": "ec795e8f-9666-4f25-a1b6-ee5e9c01b417",
   "metadata": {},
   "outputs": [
    {
     "data": {
      "text/latex": [
       "$\\displaystyle x = -7$"
      ],
      "text/plain": [
       "Eq(x, -7)"
      ]
     },
     "execution_count": 9,
     "metadata": {},
     "output_type": "execute_result"
    }
   ],
   "source": [
    "eqn3 * -1"
   ]
  },
  {
   "cell_type": "markdown",
   "id": "0c34fd85-60f8-4711-8bc4-db9b131e1e48",
   "metadata": {},
   "source": [
    "Geometrically $-x$ is the point on the number line which is the reflection of $x$ to the opposite side of the axis.\n",
    "\n",
    "Doing the reflection twice, (-1)\\*(-1), puts the point back to the original $x$. Algebraically speaking, this is the rule negative-times-a-negative-is-positive (-1)\\*(-1)\\*x = x.\n"
   ]
  },
  {
   "cell_type": "code",
   "execution_count": null,
   "id": "c8a1231c-4b1b-4e47-9d3a-3598e760e860",
   "metadata": {},
   "outputs": [],
   "source": []
  },
  {
   "cell_type": "markdown",
   "id": "f28a738e-4c0d-4823-9381-31a842196a54",
   "metadata": {},
   "source": [
    "### Example 4\n",
    "\n",
    "Solve the equation $x^2 = 7$.\n"
   ]
  },
  {
   "cell_type": "code",
   "execution_count": 10,
   "id": "40e81499-9202-4825-9af4-53c4b1a15ce2",
   "metadata": {},
   "outputs": [
    {
     "data": {
      "text/latex": [
       "$\\displaystyle x^{2} = 7$"
      ],
      "text/plain": [
       "Eq(x**2, 7)"
      ]
     },
     "execution_count": 10,
     "metadata": {},
     "output_type": "execute_result"
    }
   ],
   "source": [
    "eqn4 = Eq(x**2, 7)\n",
    "eqn4"
   ]
  },
  {
   "cell_type": "code",
   "execution_count": 11,
   "id": "4ea82d54-7f2c-4838-983e-ed1da158547f",
   "metadata": {},
   "outputs": [
    {
     "data": {
      "text/latex": [
       "$\\displaystyle \\sqrt{x^{2}} = \\sqrt{7}$"
      ],
      "text/plain": [
       "Eq(sqrt(x**2), sqrt(7))"
      ]
     },
     "execution_count": 11,
     "metadata": {},
     "output_type": "execute_result"
    }
   ],
   "source": [
    "sqrt(eqn4)"
   ]
  },
  {
   "cell_type": "markdown",
   "id": "3e19dbf5-3531-4b0a-bd9f-13c37bfab157",
   "metadata": {},
   "source": [
    "The combination of squaring a number then taking the square root is equivalent to the absolute value function,\n",
    "which erases the sign of the number. The solutions to the equation are numbers whose absolute value is $\\sqrt{7}$.\n",
    "\n",
    "The equation has two solutions: $x=\\sqrt{7}$ and $x=-\\sqrt{7}$."
   ]
  },
  {
   "cell_type": "code",
   "execution_count": 12,
   "id": "0bbca31e-c0c5-4dfb-9f5a-282d76d3af3c",
   "metadata": {},
   "outputs": [
    {
     "data": {
      "text/latex": [
       "$\\displaystyle \\text{True}$"
      ],
      "text/plain": [
       "True"
      ]
     },
     "execution_count": 12,
     "metadata": {},
     "output_type": "execute_result"
    }
   ],
   "source": [
    "eqn4.subs({x:sqrt(7)})"
   ]
  },
  {
   "cell_type": "code",
   "execution_count": 13,
   "id": "43903dd4-8eef-4967-8e2e-b26e1fc63109",
   "metadata": {},
   "outputs": [
    {
     "data": {
      "text/latex": [
       "$\\displaystyle \\text{True}$"
      ],
      "text/plain": [
       "True"
      ]
     },
     "execution_count": 13,
     "metadata": {},
     "output_type": "execute_result"
    }
   ],
   "source": [
    "eqn4.subs({x:-sqrt(7)})"
   ]
  },
  {
   "cell_type": "code",
   "execution_count": null,
   "id": "dca2ab8d-bce5-4cf8-af6c-3f69f916e8c4",
   "metadata": {},
   "outputs": [],
   "source": []
  },
  {
   "cell_type": "markdown",
   "id": "ffb63d54-ccd8-40e6-b563-078c5e7dd347",
   "metadata": {},
   "source": [
    "### Example 5\n",
    "\n",
    "Solve the equation $2^x = 7$.\n",
    "\n"
   ]
  },
  {
   "cell_type": "code",
   "execution_count": 14,
   "id": "d14cdd37-cecd-483d-a108-d97ad77d4e75",
   "metadata": {},
   "outputs": [
    {
     "data": {
      "text/latex": [
       "$\\displaystyle 2^{x} = 7$"
      ],
      "text/plain": [
       "Eq(2**x, 7)"
      ]
     },
     "execution_count": 14,
     "metadata": {},
     "output_type": "execute_result"
    }
   ],
   "source": [
    "x = Symbol('x', real=True)  # explicitly specify x is real and not complex\n",
    "eqn5 = Eq(2**x, 7)\n",
    "eqn5"
   ]
  },
  {
   "cell_type": "code",
   "execution_count": 15,
   "id": "fb020661-e323-4344-83da-fcec6ccdb15c",
   "metadata": {},
   "outputs": [
    {
     "data": {
      "text/latex": [
       "$\\displaystyle \\frac{\\log{\\left(2^{x} \\right)}}{\\log{\\left(2 \\right)}} = \\frac{\\log{\\left(7 \\right)}}{\\log{\\left(2 \\right)}}$"
      ],
      "text/plain": [
       "Eq(log(2**x)/log(2), log(7)/log(2))"
      ]
     },
     "execution_count": 15,
     "metadata": {},
     "output_type": "execute_result"
    }
   ],
   "source": [
    "log(eqn5, 2)"
   ]
  },
  {
   "cell_type": "code",
   "execution_count": 16,
   "id": "2569d9d5-3974-4c7e-8639-67cf8d243b60",
   "metadata": {},
   "outputs": [
    {
     "data": {
      "text/latex": [
       "$\\displaystyle x = \\frac{\\log{\\left(7 \\right)}}{\\log{\\left(2 \\right)}}$"
      ],
      "text/plain": [
       "Eq(x, log(7)/log(2))"
      ]
     },
     "execution_count": 16,
     "metadata": {},
     "output_type": "execute_result"
    }
   ],
   "source": [
    "# need to call `simplify` whcich will recognize that ln(2^x)/ln(2) = x, when x is a real number\n",
    "simplify(log(eqn5, 2))"
   ]
  },
  {
   "cell_type": "markdown",
   "id": "be5c8a69-d0f8-4bd8-a4f7-08148a86b8c5",
   "metadata": {},
   "source": [
    "The solution is $x = \\log_2(7) = \\frac{\\ln(7)}{\\ln(2)}$."
   ]
  },
  {
   "cell_type": "markdown",
   "id": "883aea52-7965-4a8f-8385-400a822c624e",
   "metadata": {},
   "source": [
    "To see a numerical approximation of the solution as a float, we can use the `evalf` method:"
   ]
  },
  {
   "cell_type": "code",
   "execution_count": 17,
   "id": "42661104-ea7a-43e3-b39e-f70e28be96c2",
   "metadata": {},
   "outputs": [
    {
     "data": {
      "text/latex": [
       "$\\displaystyle 2.8073549220576$"
      ],
      "text/plain": [
       "2.80735492205760"
      ]
     },
     "execution_count": 17,
     "metadata": {},
     "output_type": "execute_result"
    }
   ],
   "source": [
    "simplify(log(eqn5, 2)).rhs.evalf()"
   ]
  },
  {
   "cell_type": "code",
   "execution_count": 18,
   "id": "adb9d77e-1961-4a47-a590-98d65e821666",
   "metadata": {},
   "outputs": [
    {
     "data": {
      "text/latex": [
       "$\\displaystyle 2.8073549220576$"
      ],
      "text/plain": [
       "2.80735492205760"
      ]
     },
     "execution_count": 18,
     "metadata": {},
     "output_type": "execute_result"
    }
   ],
   "source": [
    "# compute the float approximation of log_2(7)\n",
    "log(7, 2).evalf()"
   ]
  },
  {
   "cell_type": "code",
   "execution_count": null,
   "id": "e888f063-77de-4b93-bfba-a7c8c511c88f",
   "metadata": {},
   "outputs": [],
   "source": []
  },
  {
   "cell_type": "markdown",
   "id": "56b5acf5-4571-4eb6-9e18-5823f35c115a",
   "metadata": {},
   "source": [
    "### Example 6\n",
    "\n",
    "Solve the equation $3x + 5 = 7$."
   ]
  },
  {
   "cell_type": "code",
   "execution_count": 26,
   "id": "0789a2d2-827c-4a0e-bad0-b9b4b95bf8c4",
   "metadata": {},
   "outputs": [
    {
     "data": {
      "text/latex": [
       "$\\displaystyle 3 x + 5 = 7$"
      ],
      "text/plain": [
       "Eq(3*x + 5, 7)"
      ]
     },
     "execution_count": 26,
     "metadata": {},
     "output_type": "execute_result"
    }
   ],
   "source": [
    "eqn6 = Eq(3*x + 5, 7)\n",
    "eqn6"
   ]
  },
  {
   "cell_type": "code",
   "execution_count": 35,
   "id": "66b23809-3783-4231-819b-189796f4574c",
   "metadata": {},
   "outputs": [
    {
     "data": {
      "text/latex": [
       "$\\displaystyle 3 x = 2$"
      ],
      "text/plain": [
       "Eq(3*x, 2)"
      ]
     },
     "execution_count": 35,
     "metadata": {},
     "output_type": "execute_result"
    }
   ],
   "source": [
    "# subtract 5 on both sides:\n",
    "eqn6 - 5"
   ]
  },
  {
   "cell_type": "code",
   "execution_count": 36,
   "id": "b75cad76-10a5-4e01-9856-00cf808e4d26",
   "metadata": {},
   "outputs": [
    {
     "data": {
      "text/latex": [
       "$\\displaystyle x = \\frac{2}{3}$"
      ],
      "text/plain": [
       "Eq(x, 2/3)"
      ]
     },
     "execution_count": 36,
     "metadata": {},
     "output_type": "execute_result"
    }
   ],
   "source": [
    "# subtract 5 on both sides, then multiply by 1/3\n",
    "(eqn6 - 5) * 1/3"
   ]
  },
  {
   "cell_type": "code",
   "execution_count": null,
   "id": "a4bc48e9-b5fb-4abb-9e6b-82131a2f587b",
   "metadata": {},
   "outputs": [],
   "source": []
  },
  {
   "cell_type": "code",
   "execution_count": null,
   "id": "3bac8b24-05b1-4985-a53d-e924d592d2f8",
   "metadata": {},
   "outputs": [],
   "source": []
  }
 ],
 "metadata": {
  "kernelspec": {
   "display_name": "Python 3",
   "language": "python",
   "name": "python3"
  },
  "language_info": {
   "codemirror_mode": {
    "name": "ipython",
    "version": 3
   },
   "file_extension": ".py",
   "mimetype": "text/x-python",
   "name": "python",
   "nbconvert_exporter": "python",
   "pygments_lexer": "ipython3",
   "version": "3.6.9"
  }
 },
 "nbformat": 4,
 "nbformat_minor": 5
}
